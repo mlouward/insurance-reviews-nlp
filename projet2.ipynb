{
 "cells": [
  {
   "cell_type": "code",
   "execution_count": 34,
   "metadata": {},
   "outputs": [],
   "source": [
    "import datetime\n",
    "import locale\n",
    "import random as rd\n",
    "import re\n",
    "from typing import List, Tuple\n",
    "\n",
    "import matplotlib.colors as mcolors\n",
    "import matplotlib.pyplot as plt\n",
    "import numpy as np\n",
    "import pandas as pd\n",
    "import pyLDAvis\n",
    "import pyLDAvis.gensim_models as gensimvis\n",
    "import seaborn as sns\n",
    "import spacy\n",
    "import unidecode\n",
    "from bokeh.transform import factor_cmap\n",
    "from datasets import Dataset, DatasetDict\n",
    "from gensim import corpora, models\n",
    "from gensim.models import CoherenceModel, Phrases, word2vec\n",
    "from gensim.models.phrases import Phraser\n",
    "from nltk import word_tokenize\n",
    "from nltk.corpus import stopwords\n",
    "from sklearn.manifold import TSNE\n",
    "from sklearn.metrics import accuracy_score, f1_score, mean_squared_error\n",
    "from sklearn.model_selection import train_test_split\n",
    "from transformers import (AutoModelForSequenceClassification, AutoTokenizer,\n",
    "                          DataCollatorWithPadding, Trainer, TrainingArguments,\n",
    "                          pipeline)\n",
    "from xgboost import XGBClassifier\n"
   ]
  },
  {
   "cell_type": "markdown",
   "metadata": {},
   "source": [
    "# Chargement + exploration data\n"
   ]
  },
  {
   "cell_type": "code",
   "execution_count": 273,
   "metadata": {},
   "outputs": [],
   "source": [
    "df = pd.read_csv(\"./avisassurance_train.csv\", sep=\";\", low_memory=False)\n"
   ]
  },
  {
   "cell_type": "code",
   "execution_count": 43,
   "metadata": {},
   "outputs": [],
   "source": [
    "df_test = pd.read_csv(\"./avisassurance_test.csv\", sep=\";\", low_memory=False)"
   ]
  },
  {
   "cell_type": "code",
   "execution_count": 44,
   "metadata": {},
   "outputs": [
    {
     "data": {
      "text/html": [
       "<div>\n",
       "<style scoped>\n",
       "    .dataframe tbody tr th:only-of-type {\n",
       "        vertical-align: middle;\n",
       "    }\n",
       "\n",
       "    .dataframe tbody tr th {\n",
       "        vertical-align: top;\n",
       "    }\n",
       "\n",
       "    .dataframe thead th {\n",
       "        text-align: right;\n",
       "    }\n",
       "</style>\n",
       "<table border=\"1\" class=\"dataframe\">\n",
       "  <thead>\n",
       "    <tr style=\"text-align: right;\">\n",
       "      <th></th>\n",
       "      <th>date</th>\n",
       "      <th>auteur</th>\n",
       "      <th>avis</th>\n",
       "      <th>assureur</th>\n",
       "      <th>produit</th>\n",
       "    </tr>\n",
       "  </thead>\n",
       "  <tbody>\n",
       "    <tr>\n",
       "      <th>count</th>\n",
       "      <td>10332</td>\n",
       "      <td>10332</td>\n",
       "      <td>10331</td>\n",
       "      <td>10332</td>\n",
       "      <td>10332</td>\n",
       "    </tr>\n",
       "    <tr>\n",
       "      <th>unique</th>\n",
       "      <td>1732</td>\n",
       "      <td>10238</td>\n",
       "      <td>10322</td>\n",
       "      <td>56</td>\n",
       "      <td>13</td>\n",
       "    </tr>\n",
       "    <tr>\n",
       "      <th>top</th>\n",
       "      <td>01 septem...</td>\n",
       "      <td>laura-80757</td>\n",
       "      <td>Intervention supprimée à la demande de l'inter...</td>\n",
       "      <td>Direct Assurance</td>\n",
       "      <td>auto</td>\n",
       "    </tr>\n",
       "    <tr>\n",
       "      <th>freq</th>\n",
       "      <td>48</td>\n",
       "      <td>3</td>\n",
       "      <td>6</td>\n",
       "      <td>2607</td>\n",
       "      <td>6082</td>\n",
       "    </tr>\n",
       "  </tbody>\n",
       "</table>\n",
       "</div>"
      ],
      "text/plain": [
       "                                                     date       auteur  \\\n",
       "count                                               10332        10332   \n",
       "unique                                               1732        10238   \n",
       "top                                          01 septem...  laura-80757   \n",
       "freq                                                   48            3   \n",
       "\n",
       "                                                     avis          assureur  \\\n",
       "count                                               10331             10332   \n",
       "unique                                              10322                56   \n",
       "top     Intervention supprimée à la demande de l'inter...  Direct Assurance   \n",
       "freq                                                    6              2607   \n",
       "\n",
       "       produit  \n",
       "count    10332  \n",
       "unique      13  \n",
       "top       auto  \n",
       "freq      6082  "
      ]
     },
     "execution_count": 44,
     "metadata": {},
     "output_type": "execute_result"
    }
   ],
   "source": [
    "df_test.describe()"
   ]
  },
  {
   "cell_type": "code",
   "execution_count": 45,
   "metadata": {},
   "outputs": [
    {
     "data": {
      "text/html": [
       "<div>\n",
       "<style scoped>\n",
       "    .dataframe tbody tr th:only-of-type {\n",
       "        vertical-align: middle;\n",
       "    }\n",
       "\n",
       "    .dataframe tbody tr th {\n",
       "        vertical-align: top;\n",
       "    }\n",
       "\n",
       "    .dataframe thead th {\n",
       "        text-align: right;\n",
       "    }\n",
       "</style>\n",
       "<table border=\"1\" class=\"dataframe\">\n",
       "  <thead>\n",
       "    <tr style=\"text-align: right;\">\n",
       "      <th></th>\n",
       "      <th>note</th>\n",
       "    </tr>\n",
       "  </thead>\n",
       "  <tbody>\n",
       "    <tr>\n",
       "      <th>count</th>\n",
       "      <td>24105.000000</td>\n",
       "    </tr>\n",
       "    <tr>\n",
       "      <th>mean</th>\n",
       "      <td>2.847583</td>\n",
       "    </tr>\n",
       "    <tr>\n",
       "      <th>std</th>\n",
       "      <td>1.531368</td>\n",
       "    </tr>\n",
       "    <tr>\n",
       "      <th>min</th>\n",
       "      <td>1.000000</td>\n",
       "    </tr>\n",
       "    <tr>\n",
       "      <th>25%</th>\n",
       "      <td>1.000000</td>\n",
       "    </tr>\n",
       "    <tr>\n",
       "      <th>50%</th>\n",
       "      <td>3.000000</td>\n",
       "    </tr>\n",
       "    <tr>\n",
       "      <th>75%</th>\n",
       "      <td>4.000000</td>\n",
       "    </tr>\n",
       "    <tr>\n",
       "      <th>max</th>\n",
       "      <td>5.000000</td>\n",
       "    </tr>\n",
       "  </tbody>\n",
       "</table>\n",
       "</div>"
      ],
      "text/plain": [
       "               note\n",
       "count  24105.000000\n",
       "mean       2.847583\n",
       "std        1.531368\n",
       "min        1.000000\n",
       "25%        1.000000\n",
       "50%        3.000000\n",
       "75%        4.000000\n",
       "max        5.000000"
      ]
     },
     "execution_count": 45,
     "metadata": {},
     "output_type": "execute_result"
    }
   ],
   "source": [
    "df.describe()"
   ]
  },
  {
   "cell_type": "code",
   "execution_count": null,
   "metadata": {},
   "outputs": [],
   "source": [
    "# Parse date into datetime object\n",
    "locale.setlocale(locale.LC_ALL, \"fr_FR.utf8\")\n",
    "df.date = df.date.apply(\n",
    "    lambda x: datetime.datetime.strptime(x.split(\"suite\")[0].strip(), \"%d %B %Y\")\n",
    ")\n",
    "\n",
    "df_test.date = df_test.date.apply(\n",
    "    lambda x: datetime.datetime.strptime(x.split(\"suite\")[0].strip(), \"%d %B %Y\")\n",
    ")\n"
   ]
  },
  {
   "cell_type": "code",
   "execution_count": 22,
   "metadata": {},
   "outputs": [
    {
     "data": {
      "text/html": [
       "<div>\n",
       "<style scoped>\n",
       "    .dataframe tbody tr th:only-of-type {\n",
       "        vertical-align: middle;\n",
       "    }\n",
       "\n",
       "    .dataframe tbody tr th {\n",
       "        vertical-align: top;\n",
       "    }\n",
       "\n",
       "    .dataframe thead th {\n",
       "        text-align: right;\n",
       "    }\n",
       "</style>\n",
       "<table border=\"1\" class=\"dataframe\">\n",
       "  <thead>\n",
       "    <tr style=\"text-align: right;\">\n",
       "      <th></th>\n",
       "      <th>date</th>\n",
       "      <th>note</th>\n",
       "      <th>auteur</th>\n",
       "      <th>avis</th>\n",
       "      <th>assureur</th>\n",
       "      <th>produit</th>\n",
       "    </tr>\n",
       "  </thead>\n",
       "  <tbody>\n",
       "    <tr>\n",
       "      <th>0</th>\n",
       "      <td>2021-09-06</td>\n",
       "      <td>5</td>\n",
       "      <td>brahim--k-131532</td>\n",
       "      <td>Meilleurs assurances, prix, solutions, écoute,...</td>\n",
       "      <td>Direct Assurance</td>\n",
       "      <td>auto</td>\n",
       "    </tr>\n",
       "    <tr>\n",
       "      <th>1</th>\n",
       "      <td>2021-05-03</td>\n",
       "      <td>4</td>\n",
       "      <td>bernard-g-112497</td>\n",
       "      <td>je suis globalement satisfait , sauf que vous ...</td>\n",
       "      <td>Direct Assurance</td>\n",
       "      <td>auto</td>\n",
       "    </tr>\n",
       "    <tr>\n",
       "      <th>2</th>\n",
       "      <td>2021-03-21</td>\n",
       "      <td>5</td>\n",
       "      <td>virginie-t-107352</td>\n",
       "      <td>Prix tres abordable plusieurs options s'offren...</td>\n",
       "      <td>Direct Assurance</td>\n",
       "      <td>auto</td>\n",
       "    </tr>\n",
       "    <tr>\n",
       "      <th>3</th>\n",
       "      <td>2021-06-10</td>\n",
       "      <td>4</td>\n",
       "      <td>boulain-f-116580</td>\n",
       "      <td>je satisfait du service, une réponse très rapi...</td>\n",
       "      <td>L'olivier Assurance</td>\n",
       "      <td>auto</td>\n",
       "    </tr>\n",
       "    <tr>\n",
       "      <th>4</th>\n",
       "      <td>2017-01-29</td>\n",
       "      <td>1</td>\n",
       "      <td>ouaille31-51798</td>\n",
       "      <td>Client depuis plus de 25 ans, très déçu de cet...</td>\n",
       "      <td>Matmut</td>\n",
       "      <td>auto</td>\n",
       "    </tr>\n",
       "  </tbody>\n",
       "</table>\n",
       "</div>"
      ],
      "text/plain": [
       "        date  note             auteur  \\\n",
       "0 2021-09-06     5   brahim--k-131532   \n",
       "1 2021-05-03     4   bernard-g-112497   \n",
       "2 2021-03-21     5  virginie-t-107352   \n",
       "3 2021-06-10     4   boulain-f-116580   \n",
       "4 2017-01-29     1    ouaille31-51798   \n",
       "\n",
       "                                                avis             assureur  \\\n",
       "0  Meilleurs assurances, prix, solutions, écoute,...     Direct Assurance   \n",
       "1  je suis globalement satisfait , sauf que vous ...     Direct Assurance   \n",
       "2  Prix tres abordable plusieurs options s'offren...     Direct Assurance   \n",
       "3  je satisfait du service, une réponse très rapi...  L'olivier Assurance   \n",
       "4  Client depuis plus de 25 ans, très déçu de cet...               Matmut   \n",
       "\n",
       "  produit  \n",
       "0    auto  \n",
       "1    auto  \n",
       "2    auto  \n",
       "3    auto  \n",
       "4    auto  "
      ]
     },
     "execution_count": 22,
     "metadata": {},
     "output_type": "execute_result"
    }
   ],
   "source": [
    "df.head()\n"
   ]
  },
  {
   "cell_type": "code",
   "execution_count": 12,
   "metadata": {},
   "outputs": [
    {
     "data": {
      "text/plain": [
       "<AxesSubplot:>"
      ]
     },
     "execution_count": 12,
     "metadata": {},
     "output_type": "execute_result"
    },
    {
     "data": {
      "image/png": "[encoded data removed]",
      "text/plain": [
       "<Figure size 432x288 with 1 Axes>"
      ]
     },
     "metadata": {
      "needs_background": "light"
     },
     "output_type": "display_data"
    }
   ],
   "source": [
    "df.note.value_counts().plot(kind=\"bar\")\n"
   ]
  },
  {
   "cell_type": "code",
   "execution_count": 13,
   "metadata": {},
   "outputs": [
    {
     "data": {
      "text/plain": [
       "<AxesSubplot:>"
      ]
     },
     "execution_count": 13,
     "metadata": {},
     "output_type": "execute_result"
    },
    {
     "data": {
      "image/png": "[encoded data removed]",
      "text/plain": [
       "<Figure size 432x288 with 1 Axes>"
      ]
     },
     "metadata": {
      "needs_background": "light"
     },
     "output_type": "display_data"
    }
   ],
   "source": [
    "df.produit.value_counts().plot(kind=\"bar\")\n"
   ]
  },
  {
   "cell_type": "code",
   "execution_count": 15,
   "metadata": {},
   "outputs": [
    {
     "data": {
      "text/plain": [
       "<AxesSubplot:>"
      ]
     },
     "execution_count": 15,
     "metadata": {},
     "output_type": "execute_result"
    },
    {
     "data": {
      "image/png": "[encoded data removed]",
      "text/plain": [
       "<Figure size 432x288 with 1 Axes>"
      ]
     },
     "metadata": {
      "needs_background": "light"
     },
     "output_type": "display_data"
    }
   ],
   "source": [
    "df_test.produit.value_counts().plot(kind=\"bar\")\n"
   ]
  },
  {
   "cell_type": "code",
   "execution_count": 8,
   "metadata": {},
   "outputs": [
    {
     "data": {
      "image/png": "[encoded data removed]",
      "text/plain": [
       "<Figure size 1152x864 with 12 Axes>"
      ]
     },
     "metadata": {
      "needs_background": "light"
     },
     "output_type": "display_data"
    }
   ],
   "source": [
    "top12 = df.assureur.value_counts()[:12]\n",
    "\n",
    "# Draw 12 subplots, with distribution of note for each assureur\n",
    "fig, axes = plt.subplots(nrows=3, ncols=4, figsize=(16, 12))\n",
    "plt.subplots_adjust(hspace=0.4, wspace=0.4)\n",
    "for i, ax in enumerate(axes.flat):\n",
    "    ax.set_title(top12.index[i])\n",
    "    ax.set_xlabel(\"Note\")\n",
    "    ax.set_ylabel(\"Nombre\")\n",
    "    ax.set_xticks(range(1, 6))\n",
    "    ax.bar(\n",
    "        range(1, 6),\n",
    "        height=df[df.assureur == top12.index[i]].note.value_counts().sort_index(),\n",
    "    )\n"
   ]
  },
  {
   "cell_type": "code",
   "execution_count": 275,
   "metadata": {},
   "outputs": [],
   "source": [
    "df.dropna(subset=[\"avis\"], inplace=True)\n",
    "df_test.dropna(subset=[\"avis\"], inplace=True)\n"
   ]
  },
  {
   "cell_type": "code",
   "execution_count": 48,
   "metadata": {},
   "outputs": [
    {
     "data": {
      "text/plain": [
       "(24104,\n",
       " \"Les prix semblent très corrects par rapport a mon ancienne assurance, et la démarche est très simple. Reste maintenant a voir dans la pratique. Mais pour l'instant, je suis plutôt satisfaite\")"
      ]
     },
     "execution_count": 48,
     "metadata": {},
     "output_type": "execute_result"
    }
   ],
   "source": [
    "reviews = df.avis.to_list()\n",
    "rd.shuffle(reviews, rd.seed(11))\n",
    "len(reviews), reviews[0]\n"
   ]
  },
  {
   "cell_type": "markdown",
   "metadata": {},
   "source": [
    "# Preprocessing pour LDA\n"
   ]
  },
  {
   "cell_type": "markdown",
   "metadata": {},
   "source": [
    "## Preprocessing\n",
    "\n",
    "Tokenization, nettoyage, bigrams/trigrams\n"
   ]
  },
  {
   "cell_type": "code",
   "execution_count": 6,
   "metadata": {},
   "outputs": [],
   "source": [
    "fr_stop = set(stopwords.words(\"french\"))\n",
    "fr_stop.update({\"a\", \"les\"})\n",
    "\n",
    "\n",
    "def preprocess_texts(texts: List[str]) -> List[List[str]]:\n",
    "    \"\"\"\n",
    "    Preprocess texts and remove stopwords.\n",
    "    Remove punctuation and numbers.\n",
    "    Keeps only nouns, adjectives, verbs and adverbs.\n",
    "    Args:\n",
    "      texts: List of texts to preprocess.\n",
    "\n",
    "    Returns:\n",
    "      tokens: List of tokens for each text.\n",
    "    \"\"\"\n",
    "    tokens: List[List[str]] = []\n",
    "    punctuation = r'!\"#$%&\\'’*+-.,/:;<=>?()[]{}@\\^_`|~0123456789' + \"\\r\\n\"\n",
    "    t = str.maketrans(dict.fromkeys(punctuation, \" \"))\n",
    "    # remove punctuation\n",
    "    texts = [doc.translate(t) for doc in texts]\n",
    "    # remove accents\n",
    "    texts = [unidecode.unidecode(doc) for doc in texts]\n",
    "    # set to lowercase\n",
    "    texts = [doc.lower() for doc in texts]\n",
    "    # tokenize with nltk\n",
    "    tokens = [word_tokenize(doc) for doc in texts]\n",
    "    # remove tokens with length < 3\n",
    "    tokens = [[word for word in doc if len(word) >= 3] for doc in tokens]\n",
    "    # remove stopwords\n",
    "    tokens = [[word for word in doc if word not in fr_stop] for doc in tokens]\n",
    "    return tokens\n",
    "\n",
    "\n",
    "tokenized_reviews = preprocess_texts(reviews)\n"
   ]
  },
  {
   "cell_type": "code",
   "execution_count": 7,
   "metadata": {},
   "outputs": [
    {
     "name": "stdout",
     "output_type": "stream",
     "text": [
      "['prix', 'semblent', 'tres', 'corrects', 'rapport', 'ancienne', 'assurance', 'demarche', 'tres', 'simple', 'reste', 'maintenant', 'voir', 'pratique', 'instant', 'plutot', 'satisfaite']\n"
     ]
    }
   ],
   "source": [
    "print(tokenized_reviews[0])\n"
   ]
  },
  {
   "cell_type": "code",
   "execution_count": 8,
   "metadata": {},
   "outputs": [],
   "source": [
    "def create_bigrams_trigrams(documents: List[List[str]]) -> Tuple[Phraser, Phraser]:\n",
    "    \"\"\"\n",
    "    Create bigrams and trigrams from a list of documents.\n",
    "    Args:\n",
    "      documents: List of tokenized documents.\n",
    "\n",
    "    Returns:\n",
    "      bigram: Phraser object for bigrams.\n",
    "      trigram: Phraser object for trigrams.\n",
    "    \"\"\"\n",
    "    bigram = Phrases(documents, min_count=5, threshold=100)\n",
    "    trigram = Phrases(bigram[documents], min_count=5, threshold=100)\n",
    "    bigram_mod = Phraser(bigram)\n",
    "    trigram_mod = Phraser(trigram)\n",
    "    return bigram_mod, trigram_mod\n",
    "\n",
    "\n",
    "bigram_mod, trigram_mod = create_bigrams_trigrams(tokenized_reviews)\n"
   ]
  },
  {
   "cell_type": "markdown",
   "metadata": {},
   "source": [
    "## Lemmatization\n"
   ]
  },
  {
   "cell_type": "code",
   "execution_count": 9,
   "metadata": {},
   "outputs": [],
   "source": [
    "# Initialize spacy 'fr_core_news_lg' model, keeping only tagger component (for efficiency)\n",
    "nlp = spacy.load(\"fr_core_news_lg\", disable=[\"parser\", \"ner\"])\n",
    "\n",
    "\n",
    "def lemmatize_bigrams_trigrams(\n",
    "    tokenized_texts,\n",
    "    do_lemmatization: bool = True,\n",
    "    allowed_postags: List[str] = [\"NOUN\", \"ADJ\", \"VERB\", \"ADV\"],\n",
    "):\n",
    "    \"\"\"\n",
    "    Create bigrams and trigrams from a list of tokenized texts.\n",
    "    Lemmatizes and removes stopwords from the result.\n",
    "    Args:\n",
    "      tokenized_texts: List of tokenized texts.\n",
    "      allowed_postags: List of allowed parts of speech.\n",
    "\n",
    "    Returns:\n",
    "      texts_out: List of lemmatized texts with bigrams/trigrams.\n",
    "    \"\"\"\n",
    "    bigrams = [bigram_mod[doc] for doc in tokenized_texts]\n",
    "    trigrams = [trigram_mod[bigram_mod[doc]] for doc in bigrams]\n",
    "    if do_lemmatization:\n",
    "        texts_out = []\n",
    "        for sent in trigrams:\n",
    "            doc = nlp(\" \".join(sent))\n",
    "            texts_out.append(\n",
    "                [token.lemma_ for token in doc if token.pos_ in allowed_postags]\n",
    "            )\n",
    "        return texts_out\n",
    "    return trigrams\n"
   ]
  },
  {
   "cell_type": "code",
   "execution_count": 32,
   "metadata": {},
   "outputs": [],
   "source": [
    "# Do lemmatization keeping only noun, adj, vb, adv\n",
    "data_final = lemmatize_bigrams_trigrams(tokenized_reviews, do_lemmatization=True)\n"
   ]
  },
  {
   "cell_type": "code",
   "execution_count": 33,
   "metadata": {},
   "outputs": [
    {
     "name": "stdout",
     "output_type": "stream",
     "text": [
      "['assez', 'satisfait', 'ensemble', 'prix', 'correct', 'peu', 'decu', 'formule', 'tous_risque', 'meme', 'reste', 'assez', 'eleve', 'sinon', 'concerner', 'autre', 'formule']\n"
     ]
    }
   ],
   "source": [
    "print(data_final[2])\n"
   ]
  },
  {
   "cell_type": "code",
   "execution_count": null,
   "metadata": {},
   "outputs": [
    {
     "name": "stdout",
     "output_type": "stream",
     "text": [
      "{'personne_bout_fil', 'lettre_mise_demeure', 'regard_politique_acceptation', 'pare_choc_arriere', 'cadre_loi_hamon', 'carte_verte_definitive', 'merci_bonne_continuation', 'aujourd_hui_recois', 'valoir_droit_retractation', 'nombreux_appels_telephoniques', 'risque_pack_serenite', 'toutes_pieces_justificatives', 'aujourd_hui_toujours', 'recois_aujourd_hui', 'nouvelle_carte_verte', 'prise_charge_hospitaliere', 'envoie_carte_verte', 'encore_aujourd_hui', 'aujourd_hui_courrier', 'franchise_bris_glace', 'aujourd_hui_meme', 'assure_tous_risques', 'conge_longue_maladie', 'avant_date_anniversaire', 'veritable_parcours_combattant', 'moment_rien_redire', 'ans_aujourd_hui', 'jours_aujourd_hui', 'reception_carte_verte', 'janvier_aujourd_hui', 'maif_assureur_militant', 'grand_importe_quoi', 'carte_verte_provisoire', 'assuree_tous_risques', 'reponses_questions_posees', 'aujourd_hui_mois', 'petit_degat_eaux', 'suite_bris_glace', 'bla_bla_bla', 'aujourd_hui_juillet', 'aujourd_hui_car', 'heure_aujourd_hui', 'alteration_relation_commerciale', 'jusqu_aujourd_hui', 'recu_carte_verte', 'jour_aujourd_hui', 'subi_degat_eaux', 'defiant_toute_concurrence', 'degat_eaux_survenu', 'carte_tiers_payant', 'permis_carte_grise', 'envoi_carte_verte', 'victime_degat_eaux', 'agreer_madame_monsieur', 'aujourd_hui_apres', 'impact_pare_brise', 'pare_choc_avant', 'suite_degat_eaux', 'aujourd_hui_recu', 'toujours_carte_verte', 'sous_jours_ouvres', 'recevoir_carte_verte', 'plate_forme_telephonique', 'quelqu_bout_fil', 'sinon_rien_redire', 'aujourd_hui_septembre', 'invalidite_eme_categorie', 'inadequation_risque_regard_politique', 'aujourd_hui_retrouve'}\n"
     ]
    }
   ],
   "source": [
    "trigrams = set()\n",
    "r = re.compile(\".*_.*_.*\")\n",
    "for review in data_final:\n",
    "    for word in review:\n",
    "        if re.match(r, word):\n",
    "            trigrams.add(word)\n",
    "\n",
    "print(trigrams)\n"
   ]
  },
  {
   "cell_type": "markdown",
   "metadata": {},
   "source": [
    "## LDA\n"
   ]
  },
  {
   "cell_type": "code",
   "execution_count": 34,
   "metadata": {},
   "outputs": [],
   "source": [
    "# Run LDA on cleaned documents\n",
    "id2word = corpora.Dictionary(data_final)\n",
    "corpus = [id2word.doc2bow(cleandoc) for cleandoc in data_final]\n"
   ]
  },
  {
   "cell_type": "code",
   "execution_count": 44,
   "metadata": {},
   "outputs": [
    {
     "name": "stdout",
     "output_type": "stream",
     "text": [
      "[(0, '0.024*\"assurance\" + 0.015*\"plus\" + 0.013*\"faire\" + 0.010*\"contrat\" + 0.009*\"mois\" + 0.009*\"dire\"'), (1, '0.021*\"service\" + 0.020*\"prix\" + 0.016*\"assurance\" + 0.014*\"tres\" + 0.013*\"satisfait\" + 0.011*\"tre\"')]\n"
     ]
    }
   ],
   "source": [
    "NUM_TOPICS = 2\n",
    "\n",
    "ldamodel = models.ldamulticore.LdaMulticore(\n",
    "    corpus,\n",
    "    num_topics=NUM_TOPICS,\n",
    "    id2word=id2word,\n",
    "    chunksize=2200,\n",
    "    passes=5,\n",
    "    alpha=\"symmetric\",\n",
    "    per_word_topics=True,\n",
    "    workers=10,\n",
    ")\n",
    "\n",
    "print(ldamodel.print_topics(num_topics=NUM_TOPICS, num_words=6))\n"
   ]
  },
  {
   "cell_type": "code",
   "execution_count": 45,
   "metadata": {},
   "outputs": [
    {
     "name": "stdout",
     "output_type": "stream",
     "text": [
      "Perplexity:  -7.286237582782422\n",
      "Coherence Score:  0.4082616050504262\n"
     ]
    }
   ],
   "source": [
    "coherence_model_lda = CoherenceModel(\n",
    "    model=ldamodel, texts=data_final, dictionary=id2word, coherence=\"c_v\"\n",
    ")\n",
    "print(\"Perplexity: \", ldamodel.log_perplexity(corpus))\n",
    "coherence_lda = coherence_model_lda.get_coherence()\n",
    "print(\"Coherence Score: \", coherence_lda)\n",
    "\n",
    "# No lemmatization, trigrams, alpha symmetric, workers 10, passes 5, chunksize 2000\n",
    "# Perplexity:  -7.348628298906403\n",
    "# Coherence Score:  0.45756247328560756\n"
   ]
  },
  {
   "cell_type": "code",
   "execution_count": 46,
   "metadata": {},
   "outputs": [
    {
     "name": "stderr",
     "output_type": "stream",
     "text": [
      "C:\\Users\\Maxime\\AppData\\Local\\Packages\\PythonSoftwareFoundation.Python.3.9_qbz5n2kfra8p0\\LocalCache\\local-packages\\Python39\\site-packages\\pyLDAvis\\_prepare.py:246: FutureWarning: In a future version of pandas all arguments of DataFrame.drop except for the argument 'labels' will be keyword-only\n",
      "  default_term_info = default_term_info.sort_values(\n"
     ]
    },
    {
     "data": {
      "text/html": [
       "\n",
       "<link rel=\"stylesheet\" type=\"text/css\" href=\"https://cdn.jsdelivr.net/gh/bmabey/pyLDAvis@3.3.1/pyLDAvis/js/ldavis.v1.0.0.css\">\n",
       "\n",
       "\n",
       "<div id=\"ldavis_el713616990389687365043945911\"></div>\n",
       "<script type=\"text/javascript\">\n",
       "\n",
       "var ldavis_el713616990389687365043945911_data = {\"mdsDat\": {\"x\": [0.04866261124193886, -0.04866261124193886], \"y\": [0.0, 0.0], \"topics\": [1, 2], \"cluster\": [1, 1], \"Freq\": [65.78220911414846, 34.21779088585154]}, \"tinfo\": {\"Term\": [\"prix\", \"service\", \"satisfait\", \"tres\", \"tre\", \"bon\", \"rapide\", \"tarif\", \"merci\", \"satisfaire\", \"simple\", \"bien\", \"recommande\", \"efficace\", \"souscription\", \"devis\", \"correct\", \"site\", \"conseiller\", \"clair\", \"facile\", \"pratique\", \"ecoute\", \"accueil\", \"ligne\", \"cordialement\", \"rapidement\", \"garantie\", \"beaucoup\", \"peu\", \"imer\", \"rapel\", \"insatisfait\", \"embout\", \"omium\", \"temporaire\", \"doublement\", \"serrurier\", \"retroviseur\", \"dogue\", \"ect\", \"argentin\", \"procer\", \"picut\", \"adversaire\", \"hallucinant\", \"allusion\", \"kinesitherapeute\", \"rien\", \"audiance\", \"mutavie\", \"supprime\", \"publiquement\", \"largue\", \"reponce\", \"plenitude\", \"hybride\", \"assignation\", \"lache\", \"reinvesti\", \"depanneur\", \"effraction\", \"clore\", \"etai\", \"responsabilite\", \"article_cod\", \"diminution\", \"garage\", \"adverse\", \"immeuble\", \"racheter\", \"maif\", \"vie\", \"quitter\", \"porte\", \"euro\", \"photo\", \"deconseille_fortement\", \"resilie\", \"gendarmerie\", \"auto\", \"resiliee\", \"responsable\", \"vehicule\", \"dire\", \"grave\", \"remplacement\", \"vire\", \"victime\", \"avocat\", \"jour\", \"an\", \"reparation\", \"somme\", \"indemnise\", \"septembre\", \"informe\", \"expert\", \"non\", \"voiture\", \"mois\", \"aller\", \"argent\", \"cause\", \"assurance\", \"vol\", \"assureur\", \"eur\", \"assure\", \"accident\", \"fuir\", \"plus\", \"faire\", \"remboursement\", \"autre\", \"sinistre\", \"jamais\", \"payer\", \"suite\", \"donc\", \"prendre\", \"contrat\", \"toujours\", \"pouvoir\", \"client\", \"tout\", \"devoir\", \"demande\", \"bien\", \"service\", \"dossier\", \"abordable\", \"facile_utilisation\", \"bonne_soire\", \"revalorisation\", \"andam\", \"mariama\", \"volontier\", \"maria\", \"serein\", \"merd\", \"accueil_chaleureux\", \"mutua_gestion\", \"arpeg\", \"seul_bemol\", \"apell\", \"sympathique\", \"efficacement\", \"dynamique\", \"aisee\", \"rali\", \"apicil\", \"prado\", \"embaucher\", \"simplifier\", \"emeline\", \"relativement\", \"services_propose\", \"convient_parfaitement\", \"prospection\", \"concurrentiel\", \"satisfai\", \"rapport_qualite\", \"gentilless\", \"fluidite\", \"facile\", \"correct\", \"excellent\", \"agreabl\", \"satisfaisant\", \"claires_precise\", \"prix\", \"satisfait\", \"accueil\", \"efficace\", \"cordialement\", \"equipe\", \"satisfaire\", \"rapide\", \"simple\", \"rapidite\", \"clair\", \"prestation\", \"instant\", \"tres\", \"competitif\", \"souscription\", \"merci\", \"tarif\", \"bon\", \"parfait\", \"tre\", \"service\", \"rapidement\", \"ecoute\", \"pratique\", \"recommande\", \"site\", \"devis\", \"bien\", \"ligne\", \"conseiller\", \"beaucoup\", \"garantie\", \"assurance\", \"contrat\", \"plus\", \"demande\", \"faire\", \"client\", \"reponse\", \"tout\", \"pouvoir\", \"voir\", \"dossier\", \"sinistre\", \"toujours\", \"mois\"], \"Freq\": [5439.0, 7118.0, 3599.0, 4150.0, 3631.0, 3165.0, 2218.0, 2307.0, 2233.0, 1509.0, 1537.0, 4937.0, 1798.0, 973.0, 1060.0, 1635.0, 776.0, 1472.0, 1958.0, 760.0, 568.0, 809.0, 764.0, 572.0, 917.0, 559.0, 686.0, 1145.0, 907.0, 1251.0, 35.074652332728, 28.176041638394853, 68.7085075768366, 34.76991026030075, 21.190941415571935, 37.88126693830433, 25.878672077530684, 34.779638030264486, 43.47088514382594, 21.138148585205393, 34.137023031615946, 21.11725987000846, 30.940807526102773, 21.08189237170062, 23.168706950722278, 19.615614466399123, 15.948274893185863, 14.900405453315333, 81.10319542884467, 14.3759895429269, 24.273843995142666, 39.68224399205422, 14.86402359365097, 15.383190963726145, 14.861243382143776, 24.646405703507913, 17.982357533225485, 30.263811172544248, 36.458208549600485, 14.30722386279548, 132.49800119149273, 96.37594872810162, 75.73316937771966, 278.3195838501626, 211.4949666005927, 44.6093520529068, 39.954903730625496, 515.6789531521315, 78.11926214127595, 58.287627319986, 97.67446195815528, 1017.0830172517959, 704.3372149076635, 188.36102863042325, 248.92984919517494, 2065.6095137751913, 147.80443188184856, 177.0172310250195, 101.74501239832028, 81.96643922058212, 1018.0552833546017, 83.88430397009166, 1346.8917617777877, 3197.864860049191, 3529.2086615270173, 136.2512510824651, 124.54091704545073, 99.17931678327479, 354.2336392539132, 315.3270742723657, 2515.602857183516, 2825.275836699947, 746.9668870596972, 399.6366793155832, 220.08116270948014, 312.8367176366668, 269.7624255059058, 1463.0336955037476, 2087.295733831088, 1975.1052172940852, 3763.2011471687933, 2037.7243250329336, 746.6876302594193, 411.3292508901905, 9950.895006556344, 320.6015157013737, 1360.1219566533127, 1196.0626736385375, 1839.0803514682784, 1603.3372355516487, 1373.246646066514, 6017.635402715067, 5426.291163682849, 1913.2263586908953, 1920.6043271562382, 3344.6824594209356, 1878.6863416250628, 2228.9711300391023, 1770.8185074444393, 2170.63041137245, 2232.2902748538427, 4224.403733074321, 2355.346333210783, 2532.425560576164, 2792.5957573699343, 2291.436256832937, 1631.2997949662777, 2308.667484979702, 2708.1436724275964, 2661.9961535067782, 1743.9387572431415, 231.017081489479, 57.22473486278409, 26.485158977786416, 31.370006938125048, 10.69407551453206, 12.607745785750181, 12.157274886771974, 21.30295330063349, 17.055897061846363, 11.35762957556803, 15.584447838840148, 18.954747112341504, 10.575776409040428, 44.04071471350949, 11.7129757321305, 208.92887125394293, 22.738050339197432, 20.03754099108129, 13.606992833248924, 11.691364970323544, 10.538591436965785, 10.901784183492982, 12.423810190825344, 27.526977850940977, 55.52942645296694, 52.147492873581086, 24.155785532446096, 26.81269327205489, 12.400555484601243, 52.01303552493673, 65.2022470776339, 289.81209846298685, 55.296289177598716, 22.97703566871875, 494.2957687339394, 668.4704684029482, 257.31727508948904, 417.2260723162035, 251.25912978407732, 38.98102770218957, 4204.935515187515, 2803.634327497187, 476.771370689115, 792.7922693309062, 465.5597192061259, 110.61165058253317, 1186.697568634214, 1711.0897323604274, 1191.0598307672867, 223.2024866384651, 603.8474830633975, 373.5338614586443, 256.1242905829843, 2952.768416362311, 327.8605863340668, 804.3787401410042, 1603.6619942179202, 1640.5184864212426, 2177.85306608959, 320.90949491900574, 2429.3847692743207, 4456.283294365275, 518.2976538758752, 568.2275831553294, 595.7748507413136, 1165.3448813797802, 934.0182191995357, 1008.7147026241005, 2229.1275194135505, 615.4671294134625, 1055.4318948140492, 597.8976897637052, 685.512164813349, 3334.2206760194517, 2056.388860815097, 2270.0822538044554, 1388.2395177952874, 1994.723096632787, 1392.5919904247633, 975.6300369379248, 1148.9016796210947, 1153.66096051115, 895.5077953077225, 979.4937265746823, 1112.061602140975, 948.2502786357087, 937.7101475459124], \"Total\": [5439.0, 7118.0, 3599.0, 4150.0, 3631.0, 3165.0, 2218.0, 2307.0, 2233.0, 1509.0, 1537.0, 4937.0, 1798.0, 973.0, 1060.0, 1635.0, 776.0, 1472.0, 1958.0, 760.0, 568.0, 809.0, 764.0, 572.0, 917.0, 559.0, 686.0, 1145.0, 907.0, 1251.0, 35.74063967098573, 28.778518683658326, 70.4026753457083, 35.659656935831855, 21.793929972441237, 38.9718920529697, 26.646126969712814, 35.82652547452849, 44.786672221038366, 21.779191307270736, 35.17323256247122, 21.77323087046847, 31.91784934975086, 21.76416170280389, 23.923439766114903, 20.255981900441142, 16.476085101260196, 15.395221521186935, 83.79926794248065, 14.854701396481621, 25.100939527907396, 41.05273104078283, 15.38461426492509, 15.92391826420032, 15.384791782127527, 25.518163915107507, 18.619576906412306, 31.33805294804912, 37.79464903048127, 14.835933102972938, 138.02475189322115, 100.12843301858285, 78.7726383565504, 294.079654085679, 222.9198897430257, 46.293607872133684, 41.445760941936584, 549.0476751289116, 81.6501789559958, 60.74956020022687, 102.40564939863283, 1092.8569084740495, 758.2524424490487, 199.3910327531508, 265.0511344997243, 2299.4387290567347, 156.21691417578467, 187.79285251739014, 106.77273558340356, 85.96496590461221, 1124.5274324528273, 88.07833643491857, 1513.6073417649004, 3701.071005291804, 4133.567028129132, 144.73514375708146, 132.1582192531505, 104.65143877940453, 389.1359141622025, 345.24008911898, 2945.4789458243195, 3346.358653791058, 841.2333112626613, 441.8735667470175, 238.57449757661223, 344.61023258605263, 295.5998827438216, 1724.8195328916286, 2508.416594762647, 2380.973957458875, 4700.911294714706, 2467.800356868412, 858.9933346626092, 459.8758596549181, 13285.115682575795, 354.7819105131503, 1655.3925933264054, 1442.8980602404376, 2298.32430815439, 1984.468913686962, 1686.238286648334, 8287.717656519522, 7421.014260315636, 2426.1234697491855, 2437.984239790879, 4456.744061561911, 2393.9615109863853, 2919.75934287177, 2272.9070176930804, 2881.890701113273, 2983.863394312855, 6280.792593889419, 3303.5966118464917, 3686.0865210873144, 4185.187747794697, 3440.3379364540315, 2154.4038973404477, 3696.9070027749895, 4937.271191841147, 7118.279447872053, 2723.4324838178236, 242.98930788609718, 60.20193482560882, 27.99056405310006, 33.16540704650317, 11.322236003083482, 13.385724467066492, 12.993716351703535, 22.805128440723582, 18.26748143578393, 12.17841722074774, 16.714430795872488, 20.340941893994422, 11.359958678619964, 47.31549495659236, 12.598650294813057, 224.879926358636, 24.48778673595228, 21.601762874004855, 14.67351555049161, 12.609267504944825, 11.371827935854332, 11.79110786660096, 13.44110640069554, 29.803998179423374, 60.131008800962505, 56.50399074054112, 26.177421268043762, 29.07475733986251, 13.451632582359528, 56.441709360849444, 70.95660581006919, 320.3181236818495, 60.316654621555536, 24.949253775967254, 568.1763251638482, 776.2131693032566, 296.7831794181727, 493.1037473454455, 292.34543999349245, 43.067977231811, 5439.778955177522, 3599.041243609052, 572.2874261367826, 973.0723043032853, 559.6489083258246, 126.32817138113418, 1509.9163089134822, 2218.008785590701, 1537.2194744169067, 266.0788609774021, 760.1985702682534, 460.0194869591845, 310.49982169684665, 4150.270526686829, 403.00753504612464, 1060.7963642748105, 2233.538776615247, 2307.765588723707, 3165.2579670893783, 401.38957247348947, 3631.1807618155017, 7118.279447872053, 686.2458587269248, 764.921155178969, 809.8300594651491, 1798.0802915062973, 1472.5934260004633, 1635.018746897245, 4937.271191841147, 917.1678643142653, 1958.5626444079599, 907.731208672808, 1145.5182617461403, 13285.115682575795, 6280.792593889419, 8287.717656519522, 3696.9070027749895, 7421.014260315636, 4185.187747794697, 2348.09375643402, 3440.3379364540315, 3686.0865210873144, 2102.714317066815, 2723.4324838178236, 4456.744061561911, 3303.5966118464917, 4700.911294714706], \"Category\": [\"Default\", \"Default\", \"Default\", \"Default\", \"Default\", \"Default\", \"Default\", \"Default\", \"Default\", \"Default\", \"Default\", \"Default\", \"Default\", \"Default\", \"Default\", \"Default\", \"Default\", \"Default\", \"Default\", \"Default\", \"Default\", \"Default\", \"Default\", \"Default\", \"Default\", \"Default\", \"Default\", \"Default\", \"Default\", \"Default\", \"Topic1\", \"Topic1\", \"Topic1\", \"Topic1\", \"Topic1\", \"Topic1\", \"Topic1\", \"Topic1\", \"Topic1\", \"Topic1\", \"Topic1\", \"Topic1\", \"Topic1\", \"Topic1\", \"Topic1\", \"Topic1\", \"Topic1\", \"Topic1\", \"Topic1\", \"Topic1\", \"Topic1\", \"Topic1\", \"Topic1\", \"Topic1\", \"Topic1\", \"Topic1\", \"Topic1\", \"Topic1\", \"Topic1\", \"Topic1\", \"Topic1\", \"Topic1\", \"Topic1\", \"Topic1\", \"Topic1\", \"Topic1\", \"Topic1\", \"Topic1\", \"Topic1\", \"Topic1\", \"Topic1\", \"Topic1\", \"Topic1\", \"Topic1\", \"Topic1\", \"Topic1\", \"Topic1\", \"Topic1\", \"Topic1\", \"Topic1\", \"Topic1\", \"Topic1\", \"Topic1\", \"Topic1\", \"Topic1\", \"Topic1\", \"Topic1\", \"Topic1\", \"Topic1\", \"Topic1\", \"Topic1\", \"Topic1\", \"Topic1\", \"Topic1\", \"Topic1\", \"Topic1\", \"Topic1\", \"Topic1\", \"Topic1\", \"Topic1\", \"Topic1\", \"Topic1\", \"Topic1\", \"Topic1\", \"Topic1\", \"Topic1\", \"Topic1\", \"Topic1\", \"Topic1\", \"Topic1\", \"Topic1\", \"Topic1\", \"Topic1\", \"Topic1\", \"Topic1\", \"Topic1\", \"Topic1\", \"Topic1\", \"Topic1\", \"Topic1\", \"Topic1\", \"Topic1\", \"Topic1\", \"Topic1\", \"Topic1\", \"Topic1\", \"Topic1\", \"Topic1\", \"Topic1\", \"Topic1\", \"Topic1\", \"Topic2\", \"Topic2\", \"Topic2\", \"Topic2\", \"Topic2\", \"Topic2\", \"Topic2\", \"Topic2\", \"Topic2\", \"Topic2\", \"Topic2\", \"Topic2\", \"Topic2\", \"Topic2\", \"Topic2\", \"Topic2\", \"Topic2\", \"Topic2\", \"Topic2\", \"Topic2\", \"Topic2\", \"Topic2\", \"Topic2\", \"Topic2\", \"Topic2\", \"Topic2\", \"Topic2\", \"Topic2\", \"Topic2\", \"Topic2\", \"Topic2\", \"Topic2\", \"Topic2\", \"Topic2\", \"Topic2\", \"Topic2\", \"Topic2\", \"Topic2\", \"Topic2\", \"Topic2\", \"Topic2\", \"Topic2\", \"Topic2\", \"Topic2\", \"Topic2\", \"Topic2\", \"Topic2\", \"Topic2\", \"Topic2\", \"Topic2\", \"Topic2\", \"Topic2\", \"Topic2\", \"Topic2\", \"Topic2\", \"Topic2\", \"Topic2\", \"Topic2\", \"Topic2\", \"Topic2\", \"Topic2\", \"Topic2\", \"Topic2\", \"Topic2\", \"Topic2\", \"Topic2\", \"Topic2\", \"Topic2\", \"Topic2\", \"Topic2\", \"Topic2\", \"Topic2\", \"Topic2\", \"Topic2\", \"Topic2\", \"Topic2\", \"Topic2\", \"Topic2\", \"Topic2\", \"Topic2\", \"Topic2\", \"Topic2\", \"Topic2\", \"Topic2\", \"Topic2\", \"Topic2\", \"Topic2\"], \"logprob\": [30.0, 29.0, 28.0, 27.0, 26.0, 25.0, 24.0, 23.0, 22.0, 21.0, 20.0, 19.0, 18.0, 17.0, 16.0, 15.0, 14.0, 13.0, 12.0, 11.0, 10.0, 9.0, 8.0, 7.0, 6.0, 5.0, 4.0, 3.0, 2.0, 1.0, -9.3621, -9.5811, -8.6897, -9.3708, -9.866, -9.2851, -9.6662, -9.3706, -9.1475, -9.8685, -9.3892, -9.8695, -9.4875, -9.8712, -9.7768, -9.9433, -10.1503, -10.2182, -8.5239, -10.254, -9.7302, -9.2387, -10.2207, -10.1863, -10.2208, -9.715, -10.0302, -9.5096, -9.3234, -10.2588, -8.033, -8.3513, -8.5924, -7.2908, -7.5654, -9.1217, -9.2319, -6.6741, -8.5614, -8.8542, -8.338, -5.9949, -6.3623, -7.6812, -7.4024, -5.2864, -7.9237, -7.7434, -8.2971, -8.5133, -5.994, -8.4902, -5.714, -4.8494, -4.7508, -8.0051, -8.095, -8.3227, -7.0496, -7.166, -5.0893, -4.9732, -6.3036, -6.929, -7.5256, -7.1739, -7.3221, -5.6313, -5.276, -5.3312, -4.6866, -5.3, -6.304, -6.9002, -3.7142, -7.1494, -5.7043, -5.8328, -5.4026, -5.5398, -5.6947, -4.2172, -4.3206, -5.3631, -5.3592, -4.8045, -5.3813, -5.2103, -5.4404, -5.2368, -5.2088, -4.571, -5.1552, -5.0827, -4.9849, -5.1827, -5.5225, -5.1752, -5.0156, -5.0328, -5.4557, -6.8235, -8.219, -8.9894, -8.8201, -9.8963, -9.7317, -9.7681, -9.2072, -9.4295, -9.8361, -9.5197, -9.3239, -9.9074, -8.4809, -9.8053, -6.924, -9.142, -9.2684, -9.6554, -9.8071, -9.911, -9.8771, -9.7464, -8.9508, -8.2491, -8.3119, -9.0815, -8.9771, -9.7483, -8.3145, -8.0885, -6.5968, -8.2533, -9.1315, -6.0629, -5.761, -6.7157, -6.2324, -6.7395, -8.6029, -3.922, -4.3273, -6.099, -5.5904, -6.1228, -7.56, -5.1871, -4.8211, -5.1834, -6.8579, -5.8627, -6.343, -6.7203, -4.2755, -6.4734, -5.5759, -4.886, -4.8632, -4.5799, -6.4948, -4.4706, -3.8639, -6.0154, -5.9235, -5.8761, -5.2052, -5.4265, -5.3496, -4.5566, -5.8436, -5.3043, -5.8726, -5.7358, -4.154, -4.6373, -4.5384, -5.0302, -4.6677, -5.0271, -5.3829, -5.2194, -5.2153, -5.4686, -5.379, -5.252, -5.4114, -5.4226], \"loglift\": [30.0, 29.0, 28.0, 27.0, 26.0, 25.0, 24.0, 23.0, 22.0, 21.0, 20.0, 19.0, 18.0, 17.0, 16.0, 15.0, 14.0, 13.0, 12.0, 11.0, 10.0, 9.0, 8.0, 7.0, 6.0, 5.0, 4.0, 3.0, 2.0, 1.0, 0.4, 0.3977, 0.3945, 0.3936, 0.3908, 0.3904, 0.3896, 0.3892, 0.389, 0.3889, 0.3889, 0.3882, 0.3877, 0.387, 0.3868, 0.3867, 0.3863, 0.3862, 0.3861, 0.3861, 0.3853, 0.3849, 0.3844, 0.3843, 0.3842, 0.3841, 0.384, 0.3839, 0.3828, 0.3825, 0.378, 0.3806, 0.3795, 0.3637, 0.3662, 0.3818, 0.3822, 0.3561, 0.3746, 0.3775, 0.3715, 0.347, 0.3451, 0.3619, 0.3561, 0.3116, 0.3635, 0.3597, 0.3706, 0.3712, 0.3194, 0.37, 0.3021, 0.2727, 0.2608, 0.3584, 0.3595, 0.3651, 0.3248, 0.3282, 0.2611, 0.2496, 0.3, 0.3184, 0.3381, 0.3221, 0.3274, 0.2542, 0.235, 0.2319, 0.1963, 0.2273, 0.2787, 0.3073, 0.1298, 0.3175, 0.2224, 0.2312, 0.1959, 0.2056, 0.2135, 0.0987, 0.1058, 0.1813, 0.1803, 0.1318, 0.1764, 0.1489, 0.1692, 0.1354, 0.1286, 0.0222, 0.0805, 0.0434, 0.0142, 0.0124, 0.1407, -0.052, -0.1817, -0.5648, -0.0269, 1.0219, 1.0217, 1.0171, 1.0168, 1.0153, 1.0125, 1.0059, 1.0043, 1.0038, 1.0026, 1.0024, 1.0018, 1.0009, 1.0007, 0.9995, 0.9989, 0.9983, 0.9973, 0.997, 0.9968, 0.9963, 0.994, 0.9937, 0.9929, 0.9928, 0.9922, 0.9921, 0.9914, 0.9911, 0.9907, 0.9878, 0.9723, 0.9855, 0.9901, 0.9331, 0.923, 0.9297, 0.9053, 0.921, 0.9727, 0.8149, 0.8227, 0.8898, 0.8675, 0.8884, 0.9396, 0.8315, 0.8129, 0.8173, 0.8967, 0.8422, 0.8642, 0.8799, 0.732, 0.8661, 0.7957, 0.7411, 0.7312, 0.6985, 0.8487, 0.6705, 0.6041, 0.7917, 0.7752, 0.7655, 0.6387, 0.6171, 0.5894, 0.2772, 0.6735, 0.4542, 0.6549, 0.559, -0.31, -0.0441, -0.2225, 0.093, -0.2414, -0.028, 0.1941, -0.0243, -0.0892, 0.2188, 0.0498, -0.3158, -0.1757, -0.5396]}, \"token.table\": {\"Topic\": [1, 2, 1, 2, 1, 2, 1, 2, 1, 2, 1, 2, 1, 2, 1, 2, 1, 2, 1, 2, 1, 2, 1, 2, 1, 2, 1, 2, 1, 2, 1, 2, 1, 2, 1, 2, 1, 2, 1, 2, 1, 2, 1, 2, 1, 1, 2, 1, 2, 1, 2, 1, 2, 1, 2, 1, 2, 1, 2, 1, 2, 1, 2, 1, 2, 1, 2, 1, 2, 1, 2, 1, 2, 1, 2, 1, 2, 1, 2, 1, 2, 1, 2, 1, 2, 1, 2, 1, 2, 1, 2, 1, 2, 1, 2, 1, 2, 1, 2, 1, 2, 1, 2, 1, 2, 1, 2, 1, 2, 1, 2, 1, 2, 1, 2, 1, 2, 1, 2, 1, 2, 1, 2, 1, 2, 1, 2, 1, 2, 1, 2, 1, 2, 1, 2, 1, 2, 1, 2, 1, 2, 1, 2, 1, 2, 1, 2, 1, 2, 1, 2, 1, 2, 1, 2, 1, 2, 1, 2, 1, 2, 1, 2, 1, 2, 1, 2, 1, 2, 1, 2, 1, 2, 1, 2, 1, 1, 2, 1, 2, 1, 2, 1, 2, 1, 2, 1, 2, 1, 2, 1, 2, 1, 2, 1, 2, 1, 2, 1, 2, 1, 2, 1, 2, 1, 2, 1, 2, 1, 2, 1, 2, 1, 2, 1, 2, 1, 2, 1, 2, 1, 2, 1, 2, 1, 2, 1, 2, 1, 2, 1, 2, 1, 2, 1, 2, 1, 2, 1, 2, 1, 2, 1, 2, 1, 2, 1, 2, 1, 2, 1, 2, 1, 2, 1, 2, 1, 2, 1, 2, 1, 2, 1, 2, 1, 2, 1, 2, 1, 2, 1, 2, 1, 2, 1, 2, 1, 2, 1, 2, 1, 2, 1, 2, 1, 2, 1, 2, 1, 2, 1, 2, 1, 2, 1, 2, 1, 2, 1, 2, 1, 2, 1, 2, 1, 2, 1, 2, 1, 2, 1, 2, 1, 2, 1, 2, 1, 2, 1, 2, 1, 2, 1, 2, 1, 2, 1, 2, 1, 2, 1, 2, 1, 2, 1, 2, 1, 2, 1, 2, 1, 2, 1, 2, 1, 2, 1, 2], \"Freq\": [0.04938488900764752, 0.9506591133972148, 0.8077727944963231, 0.19199091372620034, 0.16774787565759833, 0.8334972571736917, 0.059828540511648355, 0.9572566481863737, 0.9614002093702737, 0.041800009103055376, 0.9552949056246036, 0.048989482339723264, 0.15412578064785612, 0.8456638227652106, 0.06814999422319737, 0.9540999191247632, 0.8258366582725436, 0.17424424095053667, 0.9711044766803382, 0.060694029792521136, 0.8442012026414396, 0.15569162002696993, 0.08832177669920159, 0.9715395436912174, 0.07937358182024516, 0.952482981842942, 0.08793661015983996, 0.9673027117582396, 0.8696225801256102, 0.1303851793494891, 0.964487086226729, 0.045927956486987095, 0.08802848921290993, 0.9683133813420092, 0.9720564472808704, 0.04320250876803868, 0.9573026138456244, 0.03191008712818748, 0.7490337485770875, 0.2509575437399266, 0.8001481746833028, 0.19971071896663187, 0.8215573788856739, 0.17820546086123074, 0.9424625663169467, 0.9052691562886386, 0.09426181784537888, 0.7879460287917103, 0.21206043565086632, 0.9124085235983173, 0.0868960498665064, 0.34151078759674947, 0.658785325751149, 0.5484811133070788, 0.45146395921768046, 0.3118229257337905, 0.68809557471955, 0.07145265083639829, 0.9288844608731779, 0.8937194492192011, 0.10655049394584148, 0.20520954142935555, 0.7945292501495561, 0.09287643063592751, 0.9055451987002933, 0.6673535736770033, 0.33284050416472094, 0.9648020122926372, 0.03808428995891989, 0.18610073876513542, 0.8138805641995256, 0.07086957580300683, 0.9213044854390888, 0.46105239604064924, 0.5386603298149335, 0.6725265859136199, 0.3273472207950764, 0.06878819233541564, 0.9286405965281112, 0.16796244681544828, 0.8326648959148819, 0.13913703641094213, 0.860588336319531, 0.9425278844604019, 0.058575179260250965, 0.6245761654991071, 0.37544898991457804, 0.9563502066797264, 0.04347046393998756, 0.38287022774995855, 0.6171183063893102, 0.7570539591083291, 0.2427585656736089, 0.9651167958054379, 0.024127919895135946, 0.8537420528045092, 0.14612077072652976, 0.9642231294873372, 0.04591538711844463, 0.7533248915933363, 0.24671303451076096, 0.6403683624846783, 0.3594728365094611, 0.9757515615516195, 0.037528906213523824, 0.09258503630769697, 0.9258503630769698, 0.2575428835589046, 0.7425601921901411, 0.9666441644114615, 0.02843071071798416, 0.184981115179184, 0.8149445796505163, 0.08167336728164397, 0.9392437237389056, 0.958768624514311, 0.03994869268809629, 0.07439863729880546, 0.8927836475856655, 0.9815013100933955, 0.028042894574097012, 0.08315177309847438, 0.931299858702913, 0.12665425158199856, 0.8786638703501151, 0.9453221130320214, 0.054407028088173895, 0.828887385017833, 0.17118326429716116, 0.8984801264295941, 0.10176396398089303, 0.13140906461227816, 0.8659520411629612, 0.8482046800266154, 0.15189994953313277, 0.13024125913493528, 0.8694484055764597, 0.04983228543551484, 0.946813423274782, 0.7311669011358586, 0.2688311772513892, 0.08016271821029494, 0.9218712594183919, 0.8142384210294829, 0.18562026641094548, 0.9398090974137132, 0.060104070183435145, 0.40156496440206135, 0.5988555773474219, 0.9538769560030793, 0.04653058321966241, 0.08289584413080389, 0.9118542854388428, 0.9396473894982809, 0.055273375852840055, 0.9873626516009294, 0.04936813258004647, 0.9667244368909944, 0.053706913160610804, 0.9792773806567603, 0.027979353733050296, 0.9547394221264404, 0.03292204903884277, 0.9221438260782777, 0.07544813122458637, 0.9133968440508231, 0.08795673313082, 0.980076391432278, 0.02840801134586313, 0.17391314334705915, 0.8244771240156878, 0.7848914827481059, 0.2151245947925889, 0.8541904546854177, 0.1459864449581596, 0.9743282991645797, 0.9525157905545336, 0.026458771959848155, 0.9419792133524418, 0.06279861422349613, 0.32927451097056804, 0.6705424643937064, 0.9305884348757348, 0.06954249857478452, 0.0876995718396639, 0.9208455043164708, 0.07470645331601929, 0.9711838931082507, 0.282063605340542, 0.7181428935971894, 0.08211247667688308, 0.9032372434457139, 0.8004830902107829, 0.19953577959545957, 0.9561395091732179, 0.03983914621555074, 0.04916193189142563, 0.9340767059370869, 0.83199896076173, 0.16783496046032023, 0.9635710505886192, 0.0458843357423152, 0.19930761904703878, 0.799721821426243, 0.7634190829603223, 0.23666334065750683, 0.43068691080669674, 0.5697212753342761, 0.9474006113925763, 0.05121084385905817, 0.9648889898338955, 0.04594709475399503, 0.9796943104201655, 0.03918777241680662, 0.7261347755091473, 0.27389929219105424, 0.9394413665498157, 0.060365710300389765, 0.6869073705988636, 0.3130691570580919, 0.08480967279016773, 0.9329064006918449, 0.264252971964681, 0.7359568751913546, 0.7480235201967081, 0.25202226128491245, 0.18694860204396166, 0.8130090367958333, 0.2270312838400429, 0.7730093510505104, 0.9712433836098038, 0.03133043172934851, 0.07434041882108794, 0.8920850258530553, 0.9750000709603776, 0.06500000473069184, 0.9428708874423, 0.05516797745673032, 0.9569784535862564, 0.048825431305421246, 0.0793067479619924, 0.9516809755439088, 0.9729479236851617, 0.03474814013161292, 0.22858340476093994, 0.771412634212955, 0.2448102205114386, 0.7548315132436023, 0.16160622396700638, 0.8380973940614518, 0.09677878867319484, 0.9053499585556937, 0.3520421212501695, 0.6479132247337243, 0.9436548347063235, 0.06740391676473739, 0.0707914599938166, 0.9202889799196158, 0.7885006776665688, 0.2114484305504181, 0.945835988910846, 0.060533503290294145, 0.8879819545885309, 0.11174070111288073, 0.9749888209358453, 0.06499925472905635, 0.5843037554359053, 0.41565631582029416, 0.9553000533579528, 0.04682843398813494, 0.9536964865596427, 0.04541411840760203, 0.9465283705425903, 0.04934508092876063, 0.8899269730215285, 0.11033244580148126, 0.9601070556834298, 0.022328071062405343, 0.060303797785315354, 0.934708865672388, 0.9665955561282223, 0.03579983541215638, 0.0845587233422679, 0.9160528362079022, 0.21391914114261534, 0.7861362864900446, 0.14024504709535626, 0.8585733370959616, 0.2208921616032354, 0.7790963787867573, 0.9082725073227208, 0.09285853110008647, 0.05474208382339522, 0.9306154249977187, 0.9769297897694232, 0.027912279707697805, 0.3739667737820804, 0.6259939684346169, 0.07640171961634401, 0.9168206353961281, 0.063404176639222, 0.9299279240419228, 0.22508171784074207, 0.7747755085211671, 0.06710509066467453, 0.9394712693054433, 0.7505479232809503, 0.2495095039427255, 0.36602091961249217, 0.6342551742450235, 0.9052363166792662, 0.09504981325132295, 0.241328127265037, 0.7579211496917568, 0.7791783765081168, 0.22086253247152718, 0.9743566136991709, 0.024358915342479272, 0.07114908057415217, 0.9293848649998627, 0.28902415533844555, 0.7110774196557559, 0.9750617175155692, 0.025659518881988665, 0.7128594307050433, 0.28695997465324036, 0.6659229535925595, 0.3339788187157795, 0.3310218022302556, 0.6689284173188776, 0.2886558821398966, 0.7115198831044364, 0.8640742086351461, 0.13590660629877377, 0.9097078607153262, 0.08994286758484862, 0.9284506855344627, 0.07121638781088209, 0.9459975051913311, 0.047777651777339954, 0.5740199656241018, 0.42611589825948243, 0.8294924830290225, 0.1705184547391307, 0.9047811922984215, 0.0958335219256895, 0.0769602762545217, 0.9235233150542606], \"Term\": [\"abordable\", \"abordable\", \"accident\", \"accident\", \"accueil\", \"accueil\", \"accueil_chaleureux\", \"accueil_chaleureux\", \"adversaire\", \"adversaire\", \"adverse\", \"adverse\", \"agreabl\", \"agreabl\", \"aisee\", \"aisee\", \"aller\", \"aller\", \"allusion\", \"allusion\", \"an\", \"an\", \"andam\", \"andam\", \"apell\", \"apell\", \"apicil\", \"apicil\", \"argent\", \"argent\", \"argentin\", \"argentin\", \"arpeg\", \"arpeg\", \"article_cod\", \"article_cod\", \"assignation\", \"assignation\", \"assurance\", \"assurance\", \"assure\", \"assure\", \"assureur\", \"assureur\", \"audiance\", \"auto\", \"auto\", \"autre\", \"autre\", \"avocat\", \"avocat\", \"beaucoup\", \"beaucoup\", \"bien\", \"bien\", \"bon\", \"bon\", \"bonne_soire\", \"bonne_soire\", \"cause\", \"cause\", \"clair\", \"clair\", \"claires_precise\", \"claires_precise\", \"client\", \"client\", \"clore\", \"clore\", \"competitif\", \"competitif\", \"concurrentiel\", \"concurrentiel\", \"conseiller\", \"conseiller\", \"contrat\", \"contrat\", \"convient_parfaitement\", \"convient_parfaitement\", \"cordialement\", \"cordialement\", \"correct\", \"correct\", \"deconseille_fortement\", \"deconseille_fortement\", \"demande\", \"demande\", \"depanneur\", \"depanneur\", \"devis\", \"devis\", \"devoir\", \"devoir\", \"diminution\", \"diminution\", \"dire\", \"dire\", \"dogue\", \"dogue\", \"donc\", \"donc\", \"dossier\", \"dossier\", \"doublement\", \"doublement\", \"dynamique\", \"dynamique\", \"ecoute\", \"ecoute\", \"ect\", \"ect\", \"efficace\", \"efficace\", \"efficacement\", \"efficacement\", \"effraction\", \"effraction\", \"embaucher\", \"embaucher\", \"embout\", \"embout\", \"emeline\", \"emeline\", \"equipe\", \"equipe\", \"etai\", \"etai\", \"eur\", \"eur\", \"euro\", \"euro\", \"excellent\", \"excellent\", \"expert\", \"expert\", \"facile\", \"facile\", \"facile_utilisation\", \"facile_utilisation\", \"faire\", \"faire\", \"fluidite\", \"fluidite\", \"fuir\", \"fuir\", \"garage\", \"garage\", \"garantie\", \"garantie\", \"gendarmerie\", \"gendarmerie\", \"gentilless\", \"gentilless\", \"grave\", \"grave\", \"hallucinant\", \"hallucinant\", \"hybride\", \"hybride\", \"imer\", \"imer\", \"immeuble\", \"immeuble\", \"indemnise\", \"indemnise\", \"informe\", \"informe\", \"insatisfait\", \"insatisfait\", \"instant\", \"instant\", \"jamais\", \"jamais\", \"jour\", \"jour\", \"kinesitherapeute\", \"lache\", \"lache\", \"largue\", \"largue\", \"ligne\", \"ligne\", \"maif\", \"maif\", \"maria\", \"maria\", \"mariama\", \"mariama\", \"merci\", \"merci\", \"merd\", \"merd\", \"mois\", \"mois\", \"mutavie\", \"mutavie\", \"mutua_gestion\", \"mutua_gestion\", \"non\", \"non\", \"omium\", \"omium\", \"parfait\", \"parfait\", \"payer\", \"payer\", \"peu\", \"peu\", \"photo\", \"photo\", \"picut\", \"picut\", \"plenitude\", \"plenitude\", \"plus\", \"plus\", \"porte\", \"porte\", \"pouvoir\", \"pouvoir\", \"prado\", \"prado\", \"pratique\", \"pratique\", \"prendre\", \"prendre\", \"prestation\", \"prestation\", \"prix\", \"prix\", \"procer\", \"procer\", \"prospection\", \"prospection\", \"publiquement\", \"publiquement\", \"quitter\", \"quitter\", \"racheter\", \"racheter\", \"rali\", \"rali\", \"rapel\", \"rapel\", \"rapide\", \"rapide\", \"rapidement\", \"rapidement\", \"rapidite\", \"rapidite\", \"rapport_qualite\", \"rapport_qualite\", \"recommande\", \"recommande\", \"reinvesti\", \"reinvesti\", \"relativement\", \"relativement\", \"remboursement\", \"remboursement\", \"remplacement\", \"remplacement\", \"reparation\", \"reparation\", \"reponce\", \"reponce\", \"reponse\", \"reponse\", \"resilie\", \"resilie\", \"resiliee\", \"resiliee\", \"responsabilite\", \"responsabilite\", \"responsable\", \"responsable\", \"retroviseur\", \"retroviseur\", \"revalorisation\", \"revalorisation\", \"rien\", \"rien\", \"satisfai\", \"satisfai\", \"satisfaire\", \"satisfaire\", \"satisfaisant\", \"satisfaisant\", \"satisfait\", \"satisfait\", \"septembre\", \"septembre\", \"serein\", \"serein\", \"serrurier\", \"serrurier\", \"service\", \"service\", \"services_propose\", \"services_propose\", \"seul_bemol\", \"seul_bemol\", \"simple\", \"simple\", \"simplifier\", \"simplifier\", \"sinistre\", \"sinistre\", \"site\", \"site\", \"somme\", \"somme\", \"souscription\", \"souscription\", \"suite\", \"suite\", \"supprime\", \"supprime\", \"sympathique\", \"sympathique\", \"tarif\", \"tarif\", \"temporaire\", \"temporaire\", \"toujours\", \"toujours\", \"tout\", \"tout\", \"tre\", \"tre\", \"tres\", \"tres\", \"vehicule\", \"vehicule\", \"victime\", \"victime\", \"vie\", \"vie\", \"vire\", \"vire\", \"voir\", \"voir\", \"voiture\", \"voiture\", \"vol\", \"vol\", \"volontier\", \"volontier\"]}, \"R\": 30, \"lambda.step\": 0.01, \"plot.opts\": {\"xlab\": \"PC1\", \"ylab\": \"PC2\"}, \"topic.order\": [1, 2]};\n",
       "\n",
       "function LDAvis_load_lib(url, callback){\n",
       "  var s = document.createElement('script');\n",
       "  s.src = url;\n",
       "  s.async = true;\n",
       "  s.onreadystatechange = s.onload = callback;\n",
       "  s.onerror = function(){console.warn(\"failed to load library \" + url);};\n",
       "  document.getElementsByTagName(\"head\")[0].appendChild(s);\n",
       "}\n",
       "\n",
       "if(typeof(LDAvis) !== \"undefined\"){\n",
       "   // already loaded: just create the visualization\n",
       "   !function(LDAvis){\n",
       "       new LDAvis(\"#\" + \"ldavis_el713616990389687365043945911\", ldavis_el713616990389687365043945911_data);\n",
       "   }(LDAvis);\n",
       "}else if(typeof define === \"function\" && define.amd){\n",
       "   // require.js is available: use it to load d3/LDAvis\n",
       "   require.config({paths: {d3: \"https://d3js.org/d3.v5\"}});\n",
       "   require([\"d3\"], function(d3){\n",
       "      window.d3 = d3;\n",
       "      LDAvis_load_lib(\"https://cdn.jsdelivr.net/gh/bmabey/pyLDAvis@3.3.1/pyLDAvis/js/ldavis.v3.0.0.js\", function(){\n",
       "        new LDAvis(\"#\" + \"ldavis_el713616990389687365043945911\", ldavis_el713616990389687365043945911_data);\n",
       "      });\n",
       "    });\n",
       "}else{\n",
       "    // require.js not available: dynamically load d3 & LDAvis\n",
       "    LDAvis_load_lib(\"https://d3js.org/d3.v5.js\", function(){\n",
       "         LDAvis_load_lib(\"https://cdn.jsdelivr.net/gh/bmabey/pyLDAvis@3.3.1/pyLDAvis/js/ldavis.v3.0.0.js\", function(){\n",
       "                 new LDAvis(\"#\" + \"ldavis_el713616990389687365043945911\", ldavis_el713616990389687365043945911_data);\n",
       "            })\n",
       "         });\n",
       "}\n",
       "</script>"
      ],
      "text/plain": [
       "PreparedData(topic_coordinates=              x    y  topics  cluster       Freq\n",
       "topic                                           \n",
       "0      0.048663  0.0       1        1  65.782209\n",
       "1     -0.048663  0.0       2        1  34.217791, topic_info=          Term         Freq        Total Category  logprob  loglift\n",
       "8         prix  5439.000000  5439.000000  Default  30.0000  30.0000\n",
       "44     service  7118.000000  7118.000000  Default  29.0000  29.0000\n",
       "36   satisfait  3599.000000  3599.000000  Default  28.0000  28.0000\n",
       "14        tres  4150.000000  4150.000000  Default  27.0000  27.0000\n",
       "187        tre  3631.000000  3631.000000  Default  26.0000  26.0000\n",
       "..         ...          ...          ...      ...      ...      ...\n",
       "15        voir   895.507795  2102.714317   Topic2  -5.4686   0.2188\n",
       "265    dossier   979.493727  2723.432484   Topic2  -5.3790   0.0498\n",
       "123   sinistre  1112.061602  4456.744062   Topic2  -5.2520  -0.3158\n",
       "124   toujours   948.250279  3303.596612   Topic2  -5.4114  -0.1757\n",
       "142       mois   937.710148  4700.911295   Topic2  -5.4226  -0.5396\n",
       "\n",
       "[218 rows x 6 columns], token_table=       Topic      Freq       Term\n",
       "term                             \n",
       "389        1  0.049385  abordable\n",
       "389        2  0.950659  abordable\n",
       "831        1  0.807773   accident\n",
       "831        2  0.191991   accident\n",
       "63         1  0.167748    accueil\n",
       "...      ...       ...        ...\n",
       "125        2  0.170518    voiture\n",
       "955        1  0.904781        vol\n",
       "955        2  0.095834        vol\n",
       "10705      1  0.076960  volontier\n",
       "10705      2  0.923523  volontier\n",
       "\n",
       "[348 rows x 3 columns], R=30, lambda_step=0.01, plot_opts={'xlab': 'PC1', 'ylab': 'PC2'}, topic_order=[1, 2])"
      ]
     },
     "execution_count": 46,
     "metadata": {},
     "output_type": "execute_result"
    }
   ],
   "source": [
    "pyLDAvis.enable_notebook()\n",
    "gensimvis.prepare(ldamodel, corpus, id2word)\n"
   ]
  },
  {
   "cell_type": "markdown",
   "metadata": {},
   "source": [
    "## Visualisation des phrases et clusters\n"
   ]
  },
  {
   "cell_type": "code",
   "execution_count": 47,
   "metadata": {},
   "outputs": [],
   "source": [
    "def format_topics_sentences(ldamodel, corpus, texts):\n",
    "    # Init output\n",
    "    sent_topics_dict = {}\n",
    "\n",
    "    # Get main topic in each document\n",
    "    for i, row_list in enumerate(ldamodel[corpus]):\n",
    "        row = row_list[0] if ldamodel.per_word_topics else row_list\n",
    "        # print(row)\n",
    "        row = sorted(row, key=lambda x: (x[1]), reverse=True)\n",
    "        # Get the Dominant topic, Perc Contribution and Keywords for each document\n",
    "        for j, (topic_num, prop_topic) in enumerate(row):\n",
    "            if j == 0:  # => dominant topic\n",
    "                wp = ldamodel.show_topic(topic_num)\n",
    "                topic_keywords = \", \".join([word for word, _ in wp])\n",
    "                sent_topics_dict[i] = [\n",
    "                    int(topic_num),\n",
    "                    round(prop_topic, 4),\n",
    "                    topic_keywords,\n",
    "                ]\n",
    "            else:\n",
    "                break\n",
    "    sent_topics_df = pd.DataFrame.from_dict(\n",
    "        sent_topics_dict,\n",
    "        orient=\"index\",\n",
    "        columns=[\"Dominant_Topic\", \"Perc_Contribution\", \"Topic_Keywords\"],\n",
    "    )\n",
    "\n",
    "    # Add original text to the end of the output\n",
    "    contents = pd.Series(texts)\n",
    "    sent_topics_df = pd.concat([sent_topics_df, contents], axis=1)\n",
    "    return sent_topics_df\n"
   ]
  },
  {
   "cell_type": "code",
   "execution_count": 48,
   "metadata": {},
   "outputs": [
    {
     "data": {
      "text/html": [
       "<div>\n",
       "<style scoped>\n",
       "    .dataframe tbody tr th:only-of-type {\n",
       "        vertical-align: middle;\n",
       "    }\n",
       "\n",
       "    .dataframe tbody tr th {\n",
       "        vertical-align: top;\n",
       "    }\n",
       "\n",
       "    .dataframe thead th {\n",
       "        text-align: right;\n",
       "    }\n",
       "</style>\n",
       "<table border=\"1\" class=\"dataframe\">\n",
       "  <thead>\n",
       "    <tr style=\"text-align: right;\">\n",
       "      <th></th>\n",
       "      <th>Document_No</th>\n",
       "      <th>Dominant_Topic</th>\n",
       "      <th>Topic_Perc_Contrib</th>\n",
       "      <th>Keywords</th>\n",
       "      <th>Text</th>\n",
       "    </tr>\n",
       "  </thead>\n",
       "  <tbody>\n",
       "    <tr>\n",
       "      <th>0</th>\n",
       "      <td>0</td>\n",
       "      <td>1</td>\n",
       "      <td>0.9655</td>\n",
       "      <td>service, prix, assurance, tres, satisfait, tre...</td>\n",
       "      <td>[prix, sembler, tres, correct, rapport, ancien...</td>\n",
       "    </tr>\n",
       "    <tr>\n",
       "      <th>1</th>\n",
       "      <td>1</td>\n",
       "      <td>0</td>\n",
       "      <td>0.7922</td>\n",
       "      <td>assurance, plus, faire, contrat, mois, dire, s...</td>\n",
       "      <td>[fuir, competer, remboursement, parler, choix,...</td>\n",
       "    </tr>\n",
       "    <tr>\n",
       "      <th>2</th>\n",
       "      <td>2</td>\n",
       "      <td>1</td>\n",
       "      <td>0.9617</td>\n",
       "      <td>service, prix, assurance, tres, satisfait, tre...</td>\n",
       "      <td>[assez, satisfait, ensemble, prix, correct, pe...</td>\n",
       "    </tr>\n",
       "    <tr>\n",
       "      <th>3</th>\n",
       "      <td>3</td>\n",
       "      <td>1</td>\n",
       "      <td>0.9541</td>\n",
       "      <td>service, prix, assurance, tres, satisfait, tre...</td>\n",
       "      <td>[satisfait, rapport, exigence, prix, correct, ...</td>\n",
       "    </tr>\n",
       "    <tr>\n",
       "      <th>4</th>\n",
       "      <td>4</td>\n",
       "      <td>1</td>\n",
       "      <td>0.9777</td>\n",
       "      <td>service, prix, assurance, tres, satisfait, tre...</td>\n",
       "      <td>[bon, prix, simple, pratique, satisfait, servi...</td>\n",
       "    </tr>\n",
       "    <tr>\n",
       "      <th>5</th>\n",
       "      <td>5</td>\n",
       "      <td>1</td>\n",
       "      <td>0.9548</td>\n",
       "      <td>service, prix, assurance, tres, satisfait, tre...</td>\n",
       "      <td>[recu, emelin, jour, accueil, point, parfait, ...</td>\n",
       "    </tr>\n",
       "    <tr>\n",
       "      <th>6</th>\n",
       "      <td>6</td>\n",
       "      <td>0</td>\n",
       "      <td>0.8244</td>\n",
       "      <td>assurance, plus, faire, contrat, mois, dire, s...</td>\n",
       "      <td>[harmonie, mutuel, refuse, faire, photocopie, ...</td>\n",
       "    </tr>\n",
       "    <tr>\n",
       "      <th>7</th>\n",
       "      <td>7</td>\n",
       "      <td>1</td>\n",
       "      <td>0.9525</td>\n",
       "      <td>service, prix, assurance, tres, satisfait, tre...</td>\n",
       "      <td>[satisfait, prix, devis, beaucoup, moins, cher...</td>\n",
       "    </tr>\n",
       "    <tr>\n",
       "      <th>8</th>\n",
       "      <td>8</td>\n",
       "      <td>1</td>\n",
       "      <td>0.7950</td>\n",
       "      <td>service, prix, assurance, tres, satisfait, tre...</td>\n",
       "      <td>[satisfait, assurance, auto, direct, assurance...</td>\n",
       "    </tr>\n",
       "    <tr>\n",
       "      <th>9</th>\n",
       "      <td>9</td>\n",
       "      <td>1</td>\n",
       "      <td>0.5991</td>\n",
       "      <td>service, prix, assurance, tres, satisfait, tre...</td>\n",
       "      <td>[assure, an, reste, satisfait, service, voitur...</td>\n",
       "    </tr>\n",
       "  </tbody>\n",
       "</table>\n",
       "</div>"
      ],
      "text/plain": [
       "   Document_No  Dominant_Topic  Topic_Perc_Contrib  \\\n",
       "0            0               1              0.9655   \n",
       "1            1               0              0.7922   \n",
       "2            2               1              0.9617   \n",
       "3            3               1              0.9541   \n",
       "4            4               1              0.9777   \n",
       "5            5               1              0.9548   \n",
       "6            6               0              0.8244   \n",
       "7            7               1              0.9525   \n",
       "8            8               1              0.7950   \n",
       "9            9               1              0.5991   \n",
       "\n",
       "                                            Keywords  \\\n",
       "0  service, prix, assurance, tres, satisfait, tre...   \n",
       "1  assurance, plus, faire, contrat, mois, dire, s...   \n",
       "2  service, prix, assurance, tres, satisfait, tre...   \n",
       "3  service, prix, assurance, tres, satisfait, tre...   \n",
       "4  service, prix, assurance, tres, satisfait, tre...   \n",
       "5  service, prix, assurance, tres, satisfait, tre...   \n",
       "6  assurance, plus, faire, contrat, mois, dire, s...   \n",
       "7  service, prix, assurance, tres, satisfait, tre...   \n",
       "8  service, prix, assurance, tres, satisfait, tre...   \n",
       "9  service, prix, assurance, tres, satisfait, tre...   \n",
       "\n",
       "                                                Text  \n",
       "0  [prix, sembler, tres, correct, rapport, ancien...  \n",
       "1  [fuir, competer, remboursement, parler, choix,...  \n",
       "2  [assez, satisfait, ensemble, prix, correct, pe...  \n",
       "3  [satisfait, rapport, exigence, prix, correct, ...  \n",
       "4  [bon, prix, simple, pratique, satisfait, servi...  \n",
       "5  [recu, emelin, jour, accueil, point, parfait, ...  \n",
       "6  [harmonie, mutuel, refuse, faire, photocopie, ...  \n",
       "7  [satisfait, prix, devis, beaucoup, moins, cher...  \n",
       "8  [satisfait, assurance, auto, direct, assurance...  \n",
       "9  [assure, an, reste, satisfait, service, voitur...  "
      ]
     },
     "execution_count": 48,
     "metadata": {},
     "output_type": "execute_result"
    }
   ],
   "source": [
    "df_topic_sents_keywords = format_topics_sentences(\n",
    "    ldamodel=ldamodel, corpus=corpus, texts=data_final\n",
    ")\n",
    "\n",
    "# Format\n",
    "df_dominant_topic = df_topic_sents_keywords.reset_index()\n",
    "df_dominant_topic.columns = [\n",
    "    \"Document_No\",\n",
    "    \"Dominant_Topic\",\n",
    "    \"Topic_Perc_Contrib\",\n",
    "    \"Keywords\",\n",
    "    \"Text\",\n",
    "]\n",
    "df_dominant_topic.head(10)\n"
   ]
  },
  {
   "cell_type": "markdown",
   "metadata": {},
   "source": [
    "## t-SNE du modèle LDA\n"
   ]
  },
  {
   "cell_type": "code",
   "execution_count": 49,
   "metadata": {},
   "outputs": [],
   "source": [
    "# Get topic weights\n",
    "topic_weights = []\n",
    "for i, row_list in enumerate(ldamodel[corpus]):\n",
    "    topic_weights.append([w for _, w in row_list[0]])\n",
    "\n",
    "# Array of topic weights\n",
    "arr = pd.DataFrame(topic_weights).fillna(0)\n",
    "\n",
    "# Dominant topic number in each doc\n",
    "arr[\"topic_num\"] = arr.apply(lambda row: np.argmax(row), axis=1)"
   ]
  },
  {
   "cell_type": "code",
   "execution_count": 52,
   "metadata": {},
   "outputs": [
    {
     "name": "stderr",
     "output_type": "stream",
     "text": [
      "C:\\Users\\Maxime\\AppData\\Local\\Packages\\PythonSoftwareFoundation.Python.3.9_qbz5n2kfra8p0\\LocalCache\\local-packages\\Python39\\site-packages\\sklearn\\manifold\\_t_sne.py:982: FutureWarning: The PCA initialization in TSNE will change to have the standard deviation of PC1 equal to 1e-4 in 1.2. This will ensure better convergence.\n",
      "  warnings.warn(\n"
     ]
    }
   ],
   "source": [
    "# tSNE Dimension Reduction\n",
    "tsne_model = TSNE(n_components=2, n_jobs=10, init=\"pca\", learning_rate=\"auto\", perplexity=100, n_iter=500)\n",
    "tsne_lda = tsne_model.fit_transform(arr.iloc[:, :-1], arr.iloc[:, -1:])\n",
    "\n",
    "# Add 2 columns from the values of tsne_lda\n",
    "arr[\"tsne-x\"], arr[\"tsne-y\"] = tsne_lda[:, 0], tsne_lda[:, 1]\n",
    "arr.columns = [\"prop_0\", \"prop_1\", \"topic_num\", \"tsne-x\", \"tsne-y\"]"
   ]
  },
  {
   "cell_type": "code",
   "execution_count": 53,
   "metadata": {},
   "outputs": [
    {
     "data": {
      "image/png": "[encoded data removed]",
      "text/plain": [
       "<Figure size 1152x720 with 1 Axes>"
      ]
     },
     "metadata": {
      "needs_background": "light"
     },
     "output_type": "display_data"
    }
   ],
   "source": [
    "# colors map\n",
    "mycolors = [color for _, color in mcolors.TABLEAU_COLORS.items()]\n",
    "index_cmap = factor_cmap(\n",
    "    \"topic_num\", palette=mycolors, factors=list(map(str, range(NUM_TOPICS)))\n",
    ")\n",
    "\n",
    "# bokeh scatter plot from arr tsne-x and tsne-y\n",
    "plt.figure(figsize=(16, 10))\n",
    "plt.title(f\"t-SNE Clustering of {NUM_TOPICS} LDA Topics\")\n",
    "plt.scatter(\n",
    "    arr[\"tsne-x\"], arr[\"tsne-y\"], c=arr[\"topic_num\"], s=50, alpha=0.5\n",
    ")\n",
    "plt.legend.location = \"top_left\"\n",
    "\n",
    "plt.show()\n"
   ]
  },
  {
   "cell_type": "markdown",
   "metadata": {},
   "source": [
    "# Word2Vec\n"
   ]
  },
  {
   "cell_type": "markdown",
   "metadata": {},
   "source": [
    "## Preprocessing et modèle\n"
   ]
  },
  {
   "cell_type": "code",
   "execution_count": 54,
   "metadata": {},
   "outputs": [],
   "source": [
    "def preprocess_word2vec(texts: List[str]) -> List[List[str]]:\n",
    "    # remove accents\n",
    "    texts = [unidecode.unidecode(doc) for doc in texts]\n",
    "    # remove special characters\n",
    "    texts = [re.sub(\"[^A-Za-z0-9]\", \" \", doc) for doc in texts]\n",
    "    # set to lowercase\n",
    "    texts = [doc.lower() for doc in texts]\n",
    "    # tokenize with nltk\n",
    "    tokens = [word_tokenize(doc) for doc in texts]\n",
    "    # remove tokens with length < 3\n",
    "    tokens = [[word for word in doc if len(word) > 3] for doc in tokens]\n",
    "    return tokens\n",
    "\n",
    "\n",
    "w2v_corpus = preprocess_word2vec(reviews)\n",
    "data_final = lemmatize_bigrams_trigrams(w2v_corpus, do_lemmatization=False)\n"
   ]
  },
  {
   "cell_type": "code",
   "execution_count": 55,
   "metadata": {},
   "outputs": [
    {
     "data": {
      "text/plain": [
       "['prix',\n",
       " 'semblent',\n",
       " 'tres',\n",
       " 'corrects',\n",
       " 'rapport',\n",
       " 'ancienne',\n",
       " 'assurance',\n",
       " 'demarche',\n",
       " 'tres',\n",
       " 'simple']"
      ]
     },
     "execution_count": 55,
     "metadata": {},
     "output_type": "execute_result"
    }
   ],
   "source": [
    "# flatten data_final to a list\n",
    "words = [word for sublist in data_final for word in sublist]\n",
    "words[:10]"
   ]
  },
  {
   "cell_type": "code",
   "execution_count": 83,
   "metadata": {},
   "outputs": [],
   "source": [
    "model = word2vec.Word2Vec(\n",
    "    w2v_corpus,\n",
    "    vector_size=600,\n",
    "    window=20,\n",
    "    min_count=20,\n",
    "    workers=10,\n",
    "    sg=1,\n",
    "    negative=10,\n",
    "    ns_exponent=0.75,\n",
    "    epochs=3,\n",
    ")\n"
   ]
  },
  {
   "cell_type": "code",
   "execution_count": 59,
   "metadata": {},
   "outputs": [
    {
     "data": {
      "text/plain": [
       "0.414773"
      ]
     },
     "execution_count": 59,
     "metadata": {},
     "output_type": "execute_result"
    }
   ],
   "source": [
    "model.wv.similarity(\"allianz\", \"maif\")\n"
   ]
  },
  {
   "cell_type": "code",
   "execution_count": 91,
   "metadata": {},
   "outputs": [
    {
     "data": {
      "text/plain": [
       "[('militant', 0.6529897451400757),\n",
       " ('societaire', 0.6076914668083191),\n",
       " ('etage', 0.5954101085662842),\n",
       " ('bois', 0.5935847759246826),\n",
       " ('douche', 0.5917180180549622),\n",
       " ('orage', 0.5907077193260193),\n",
       " ('commune', 0.5892978310585022),\n",
       " ('grille', 0.5889892578125),\n",
       " ('piscine', 0.5871814489364624),\n",
       " ('pluie', 0.5863705277442932)]"
      ]
     },
     "execution_count": 91,
     "metadata": {},
     "output_type": "execute_result"
    }
   ],
   "source": [
    "model.wv.most_similar(\"maif\")\n"
   ]
  },
  {
   "cell_type": "markdown",
   "metadata": {},
   "source": [
    "## t-SNE du modèle Word2Vec\n"
   ]
  },
  {
   "cell_type": "code",
   "execution_count": 86,
   "metadata": {},
   "outputs": [
    {
     "data": {
      "text/html": [
       "<div>\n",
       "<style scoped>\n",
       "    .dataframe tbody tr th:only-of-type {\n",
       "        vertical-align: middle;\n",
       "    }\n",
       "\n",
       "    .dataframe tbody tr th {\n",
       "        vertical-align: top;\n",
       "    }\n",
       "\n",
       "    .dataframe thead th {\n",
       "        text-align: right;\n",
       "    }\n",
       "</style>\n",
       "<table border=\"1\" class=\"dataframe\">\n",
       "  <thead>\n",
       "    <tr style=\"text-align: right;\">\n",
       "      <th></th>\n",
       "      <th>0</th>\n",
       "      <th>1</th>\n",
       "      <th>2</th>\n",
       "      <th>3</th>\n",
       "      <th>4</th>\n",
       "      <th>5</th>\n",
       "      <th>6</th>\n",
       "      <th>7</th>\n",
       "      <th>8</th>\n",
       "      <th>9</th>\n",
       "      <th>...</th>\n",
       "      <th>590</th>\n",
       "      <th>591</th>\n",
       "      <th>592</th>\n",
       "      <th>593</th>\n",
       "      <th>594</th>\n",
       "      <th>595</th>\n",
       "      <th>596</th>\n",
       "      <th>597</th>\n",
       "      <th>598</th>\n",
       "      <th>599</th>\n",
       "    </tr>\n",
       "  </thead>\n",
       "  <tbody>\n",
       "    <tr>\n",
       "      <th>prix</th>\n",
       "      <td>0.212855</td>\n",
       "      <td>-0.048964</td>\n",
       "      <td>-0.088163</td>\n",
       "      <td>0.032093</td>\n",
       "      <td>-0.069143</td>\n",
       "      <td>0.015557</td>\n",
       "      <td>0.025530</td>\n",
       "      <td>0.103791</td>\n",
       "      <td>0.121265</td>\n",
       "      <td>0.148947</td>\n",
       "      <td>...</td>\n",
       "      <td>-0.087057</td>\n",
       "      <td>0.128361</td>\n",
       "      <td>0.038060</td>\n",
       "      <td>-0.055669</td>\n",
       "      <td>-0.089180</td>\n",
       "      <td>0.013153</td>\n",
       "      <td>-0.164528</td>\n",
       "      <td>0.039920</td>\n",
       "      <td>0.047450</td>\n",
       "      <td>-0.157191</td>\n",
       "    </tr>\n",
       "    <tr>\n",
       "      <th>semblent</th>\n",
       "      <td>0.115134</td>\n",
       "      <td>0.003772</td>\n",
       "      <td>-0.215613</td>\n",
       "      <td>0.044682</td>\n",
       "      <td>-0.064333</td>\n",
       "      <td>-0.023739</td>\n",
       "      <td>0.101985</td>\n",
       "      <td>0.104514</td>\n",
       "      <td>0.122871</td>\n",
       "      <td>0.049318</td>\n",
       "      <td>...</td>\n",
       "      <td>0.048136</td>\n",
       "      <td>0.016530</td>\n",
       "      <td>0.068612</td>\n",
       "      <td>-0.102039</td>\n",
       "      <td>0.137003</td>\n",
       "      <td>0.106695</td>\n",
       "      <td>-0.162042</td>\n",
       "      <td>-0.165213</td>\n",
       "      <td>0.039048</td>\n",
       "      <td>-0.145602</td>\n",
       "    </tr>\n",
       "    <tr>\n",
       "      <th>tres</th>\n",
       "      <td>0.064099</td>\n",
       "      <td>0.022777</td>\n",
       "      <td>-0.060385</td>\n",
       "      <td>-0.018224</td>\n",
       "      <td>-0.091916</td>\n",
       "      <td>0.031904</td>\n",
       "      <td>0.221007</td>\n",
       "      <td>0.089552</td>\n",
       "      <td>0.144951</td>\n",
       "      <td>0.050392</td>\n",
       "      <td>...</td>\n",
       "      <td>-0.143529</td>\n",
       "      <td>-0.095320</td>\n",
       "      <td>0.043064</td>\n",
       "      <td>-0.021109</td>\n",
       "      <td>0.024039</td>\n",
       "      <td>0.065401</td>\n",
       "      <td>0.033994</td>\n",
       "      <td>-0.050305</td>\n",
       "      <td>0.051511</td>\n",
       "      <td>-0.053372</td>\n",
       "    </tr>\n",
       "  </tbody>\n",
       "</table>\n",
       "<p>3 rows × 600 columns</p>\n",
       "</div>"
      ],
      "text/plain": [
       "               0         1         2         3         4         5    \\\n",
       "prix      0.212855 -0.048964 -0.088163  0.032093 -0.069143  0.015557   \n",
       "semblent  0.115134  0.003772 -0.215613  0.044682 -0.064333 -0.023739   \n",
       "tres      0.064099  0.022777 -0.060385 -0.018224 -0.091916  0.031904   \n",
       "\n",
       "               6         7         8         9    ...       590       591  \\\n",
       "prix      0.025530  0.103791  0.121265  0.148947  ... -0.087057  0.128361   \n",
       "semblent  0.101985  0.104514  0.122871  0.049318  ...  0.048136  0.016530   \n",
       "tres      0.221007  0.089552  0.144951  0.050392  ... -0.143529 -0.095320   \n",
       "\n",
       "               592       593       594       595       596       597  \\\n",
       "prix      0.038060 -0.055669 -0.089180  0.013153 -0.164528  0.039920   \n",
       "semblent  0.068612 -0.102039  0.137003  0.106695 -0.162042 -0.165213   \n",
       "tres      0.043064 -0.021109  0.024039  0.065401  0.033994 -0.050305   \n",
       "\n",
       "               598       599  \n",
       "prix      0.047450 -0.157191  \n",
       "semblent  0.039048 -0.145602  \n",
       "tres      0.051511 -0.053372  \n",
       "\n",
       "[3 rows x 600 columns]"
      ]
     },
     "execution_count": 86,
     "metadata": {},
     "output_type": "execute_result"
    }
   ],
   "source": [
    "# Filter the list of vectors to include only those that Word2Vec has a vector for\n",
    "vector_list = [model.wv[word] for word in words if word in model.wv]\n",
    "\n",
    "# Create a list of the words corresponding to these vectors\n",
    "words_filtered = [word for word in words if word in model.wv]\n",
    "\n",
    "# Zip the words together with their vector representations\n",
    "word_vec_zip = zip(words_filtered, vector_list)\n",
    "\n",
    "# Cast to a dict so we can turn it into a DataFrame\n",
    "word_vec_dict = dict(word_vec_zip)\n",
    "df_w2v = pd.DataFrame.from_dict(word_vec_dict, orient='index')\n",
    "df_w2v.head(3)"
   ]
  },
  {
   "cell_type": "code",
   "execution_count": 89,
   "metadata": {},
   "outputs": [],
   "source": [
    "tsne = TSNE(n_components=2, init=\"random\", perplexity=1000, n_iter=10000, learning_rate='auto')\n",
    "\n",
    "# Use only 400 rows to shorten processing time\n",
    "tsne_df = tsne.fit_transform(df_w2v[:200])\n"
   ]
  },
  {
   "cell_type": "code",
   "execution_count": 90,
   "metadata": {},
   "outputs": [
    {
     "name": "stderr",
     "output_type": "stream",
     "text": [
      "C:\\Users\\Maxime\\AppData\\Local\\Packages\\PythonSoftwareFoundation.Python.3.9_qbz5n2kfra8p0\\LocalCache\\local-packages\\Python39\\site-packages\\seaborn\\_decorators.py:36: FutureWarning: Pass the following variables as keyword args: x, y. From version 0.12, the only valid positional argument will be `data`, and passing other arguments without an explicit keyword will result in an error or misinterpretation.\n",
      "  warnings.warn(\n"
     ]
    },
    {
     "data": {
      "image/png": "[encoded data removed]",
      "text/plain": [
       "<Figure size 842.4x595.44 with 1 Axes>"
      ]
     },
     "metadata": {},
     "output_type": "display_data"
    }
   ],
   "source": [
    "sns.set()\n",
    "# Initialize figure\n",
    "fig, ax = plt.subplots(figsize=(11.7, 8.27))\n",
    "sns.scatterplot(tsne_df[:, 0], tsne_df[:, 1], alpha=0.5)\n",
    "\n",
    "# Import adjustText, initialize list of texts\n",
    "from adjustText import adjust_text\n",
    "\n",
    "texts = []\n",
    "# select 50 words to annotate\n",
    "words_to_plot = np.linspace(0, 200, 50, dtype=int, endpoint=False)\n",
    "\n",
    "# Append words to list\n",
    "for word in words_to_plot:\n",
    "    texts.append(\n",
    "        plt.text(tsne_df[word, 0], tsne_df[word, 1], df_w2v.index[word], fontsize=14)\n",
    "    )\n",
    "\n",
    "# Plot text using adjust_text (because overlapping text is hard to read)\n",
    "adjust_text(\n",
    "    texts,\n",
    "    force_points=0.4,\n",
    "    force_text=0.4,\n",
    "    expand_points=(2, 1),\n",
    "    expand_text=(1, 2),\n",
    "    arrowprops=dict(arrowstyle=\"-\", color=\"black\", lw=0.5),\n",
    ")\n",
    "\n",
    "plt.show()\n"
   ]
  },
  {
   "cell_type": "markdown",
   "metadata": {},
   "source": [
    "# Prédiction de note avec BERT (huggingface)\n"
   ]
  },
  {
   "cell_type": "markdown",
   "metadata": {},
   "source": [
    "## Import du modèle huggingface\n",
    "\n",
    "_nlptown/bert-base-multilingual-uncased-sentiment_\n"
   ]
  },
  {
   "cell_type": "code",
   "execution_count": 262,
   "metadata": {},
   "outputs": [],
   "source": [
    "tokenizer = AutoTokenizer.from_pretrained(\n",
    "    \"nlptown/bert-base-multilingual-uncased-sentiment\"\n",
    ")\n",
    "\n",
    "model = AutoModelForSequenceClassification.from_pretrained(\n",
    "    \"nlptown/bert-base-multilingual-uncased-sentiment\", num_labels=5\n",
    ")\n"
   ]
  },
  {
   "cell_type": "markdown",
   "metadata": {},
   "source": [
    "## Tests sur quelques phrases\n"
   ]
  },
  {
   "cell_type": "code",
   "execution_count": 9,
   "metadata": {},
   "outputs": [
    {
     "data": {
      "text/plain": [
       "\"Les prix semblent très corrects par rapport a mon ancienne assurance, et la démarche est très simple. Reste maintenant a voir dans la pratique. Mais pour l'instant, je suis plutôt satisfaite\""
      ]
     },
     "execution_count": 9,
     "metadata": {},
     "output_type": "execute_result"
    }
   ],
   "source": [
    "test = tokenizer(reviews[0])\n",
    "reviews[0]\n"
   ]
  },
  {
   "cell_type": "code",
   "execution_count": 10,
   "metadata": {},
   "outputs": [
    {
     "data": {
      "text/plain": [
       "\"[CLS] les prix semblent tres corrects par rapport a mon ancienne assurance, et la demarche est tres simple. reste maintenant a voir dans la pratique. mais pour l'instant, je suis plutot satisfaite [SEP]\""
      ]
     },
     "execution_count": 10,
     "metadata": {},
     "output_type": "execute_result"
    }
   ],
   "source": [
    "tokenizer.decode(test[\"input_ids\"])\n"
   ]
  },
  {
   "cell_type": "code",
   "execution_count": 263,
   "metadata": {},
   "outputs": [],
   "source": [
    "multilang_classifier = pipeline(\"sentiment-analysis\", model=model, tokenizer=tokenizer)\n"
   ]
  },
  {
   "cell_type": "code",
   "execution_count": 286,
   "metadata": {},
   "outputs": [
    {
     "name": "stderr",
     "output_type": "stream",
     "text": [
      "C:\\Users\\Maxime\\AppData\\Local\\Temp/ipykernel_14300/2001803892.py:2: SettingWithCopyWarning: \n",
      "A value is trying to be set on a copy of a slice from a DataFrame.\n",
      "Try using .loc[row_indexer,col_indexer] = value instead\n",
      "\n",
      "See the caveats in the documentation: https://pandas.pydata.org/pandas-docs/stable/user_guide/indexing.html#returning-a-view-versus-a-copy\n",
      "  sample[\"avis\"] = sample[\"avis\"].str.slice(0, 512)\n"
     ]
    }
   ],
   "source": [
    "sample = df[:100]\n",
    "sample[\"avis\"] = sample[\"avis\"].str.slice(0, 512)\n",
    "reviews_sample = sample.avis.to_list()\n",
    "results = multilang_classifier(reviews_sample)\n",
    "results_stars = [int(x[\"label\"][0]) for x in results]\n"
   ]
  },
  {
   "cell_type": "code",
   "execution_count": 287,
   "metadata": {},
   "outputs": [
    {
     "data": {
      "text/plain": [
       "0.9"
      ]
     },
     "execution_count": 287,
     "metadata": {},
     "output_type": "execute_result"
    }
   ],
   "source": [
    "mean_squared_error(sample.note, results_stars, squared=False)"
   ]
  },
  {
   "cell_type": "code",
   "execution_count": 29,
   "metadata": {},
   "outputs": [
    {
     "data": {
      "text/plain": [
       "(0.4576087575259989, 0.48)"
      ]
     },
     "execution_count": 29,
     "metadata": {},
     "output_type": "execute_result"
    }
   ],
   "source": [
    "f1_score(sample[\"note\"].to_list(), results_stars, average=\"weighted\"), accuracy_score(\n",
    "    sample[\"note\"], results_stars\n",
    ")\n"
   ]
  },
  {
   "cell_type": "markdown",
   "metadata": {},
   "source": [
    "## Création d'un _dataset_ à partir de nos données\n"
   ]
  },
  {
   "cell_type": "code",
   "execution_count": 11,
   "metadata": {},
   "outputs": [],
   "source": [
    "train, test = train_test_split(df, test_size=0.2)\n",
    "train = train[[\"avis\", \"note\"]]\n",
    "test = test[[\"avis\", \"note\"]]\n",
    "\n",
    "train[\"text\"] = train[\"avis\"]\n",
    "test[\"text\"] = test[\"avis\"].str[:512]\n",
    "\n",
    "train[\"label\"] = train[\"note\"].apply(lambda x: x - 1)\n",
    "test[\"label\"] = test[\"note\"].apply(lambda x: x - 1)\n",
    "\n",
    "train.drop([\"avis\", \"note\"], inplace=True, axis=1)\n",
    "test.drop([\"avis\", \"note\"], inplace=True, axis=1)\n",
    "\n",
    "train = Dataset.from_pandas(train)\n",
    "test = Dataset.from_pandas(test)\n",
    "\n",
    "train = train.remove_columns(\"__index_level_0__\")\n",
    "test = test.remove_columns(\"__index_level_0__\")\n",
    "\n",
    "dataset = DatasetDict()\n",
    "dataset[\"train\"] = train\n",
    "dataset[\"test\"] = test\n"
   ]
  },
  {
   "cell_type": "markdown",
   "metadata": {},
   "source": [
    "## Fine tuning du modèle avec 80% de notre training set\n"
   ]
  },
  {
   "cell_type": "code",
   "execution_count": 5,
   "metadata": {},
   "outputs": [
    {
     "data": {
      "text/plain": [
       "DatasetDict({\n",
       "    train: Dataset({\n",
       "        features: ['text', 'label'],\n",
       "        num_rows: 19284\n",
       "    })\n",
       "    test: Dataset({\n",
       "        features: ['text', 'label'],\n",
       "        num_rows: 4821\n",
       "    })\n",
       "})"
      ]
     },
     "execution_count": 5,
     "metadata": {},
     "output_type": "execute_result"
    }
   ],
   "source": [
    "dataset\n"
   ]
  },
  {
   "cell_type": "code",
   "execution_count": 6,
   "metadata": {},
   "outputs": [],
   "source": [
    "def preprocess_function(examples):\n",
    "    return tokenizer(examples[\"text\"], truncation=True)\n"
   ]
  },
  {
   "cell_type": "code",
   "execution_count": 13,
   "metadata": {},
   "outputs": [
    {
     "name": "stderr",
     "output_type": "stream",
     "text": [
      "100%|██████████| 17/17 [00:03<00:00,  4.57ba/s]\n",
      "100%|██████████| 8/8 [00:01<00:00,  5.71ba/s]\n"
     ]
    }
   ],
   "source": [
    "tokenized_dataset = dataset.map(preprocess_function, batched=True)\n"
   ]
  },
  {
   "cell_type": "code",
   "execution_count": 14,
   "metadata": {},
   "outputs": [],
   "source": [
    "data_collator = DataCollatorWithPadding(tokenizer=tokenizer)\n"
   ]
  },
  {
   "cell_type": "code",
   "execution_count": null,
   "metadata": {},
   "outputs": [],
   "source": [
    "training_args = TrainingArguments(\n",
    "    output_dir=\"./results\",\n",
    "    learning_rate=2e-5,\n",
    "    per_device_train_batch_size=1,\n",
    "    per_device_eval_batch_size=1,\n",
    "    num_train_epochs=3,\n",
    "    weight_decay=0.01,\n",
    ")\n",
    "\n",
    "trainer = Trainer(\n",
    "    model=model,\n",
    "    args=training_args,\n",
    "    train_dataset=tokenized_dataset[\"train\"],\n",
    "    eval_dataset=tokenized_dataset[\"test\"],\n",
    "    tokenizer=tokenizer,\n",
    "    data_collator=data_collator,\n",
    ")\n",
    "\n",
    "trainer.train()\n"
   ]
  },
  {
   "cell_type": "markdown",
   "metadata": {},
   "source": [
    "## Test du modèle fine-tuné\n"
   ]
  },
  {
   "cell_type": "code",
   "execution_count": 266,
   "metadata": {},
   "outputs": [],
   "source": [
    "tokenizer = AutoTokenizer.from_pretrained(\"finetuned-bert-multilingual\")\n",
    "model = AutoModelForSequenceClassification.from_pretrained(\n",
    "    \"finetuned-bert-multilingual\"\n",
    ")\n"
   ]
  },
  {
   "cell_type": "code",
   "execution_count": 267,
   "metadata": {},
   "outputs": [],
   "source": [
    "classifier = pipeline(\"sentiment-analysis\", model=model, tokenizer=tokenizer)\n"
   ]
  },
  {
   "cell_type": "code",
   "execution_count": 268,
   "metadata": {},
   "outputs": [],
   "source": [
    "sample = dataset[\"test\"][\"text\"][:100]\n",
    "y_sample = dataset[\"test\"][\"label\"][:100]\n"
   ]
  },
  {
   "cell_type": "code",
   "execution_count": 269,
   "metadata": {},
   "outputs": [],
   "source": [
    "results = classifier(sample, padding=True, truncation=True)\n",
    "results_stars = [int(x[\"label\"][0]) for x in results]\n"
   ]
  },
  {
   "cell_type": "code",
   "execution_count": 270,
   "metadata": {},
   "outputs": [
    {
     "data": {
      "text/plain": [
       "(0.5676577676074244, 0.65)"
      ]
     },
     "execution_count": 270,
     "metadata": {},
     "output_type": "execute_result"
    }
   ],
   "source": [
    "y_true = list(map(lambda x: x + 1, y_sample))\n",
    "y_pred = results_stars\n",
    "f1_score(y_true, y_pred, average=\"weighted\"), mean_squared_error(y_true, y_pred)\n"
   ]
  },
  {
   "cell_type": "markdown",
   "metadata": {},
   "source": [
    "Si on autorise de se tromper de + ou - 1 étoile, on obtient plus de 95% d'accuracy\n"
   ]
  },
  {
   "cell_type": "code",
   "execution_count": 17,
   "metadata": {},
   "outputs": [
    {
     "data": {
      "text/plain": [
       "0.96"
      ]
     },
     "execution_count": 17,
     "metadata": {},
     "output_type": "execute_result"
    }
   ],
   "source": [
    "def my_score(y_true, y_pred):\n",
    "    correct = 0\n",
    "    for i in range(len(y_true)):\n",
    "        if (\n",
    "            y_true[i] == y_pred[i]\n",
    "            or y_true[i] == y_pred[i] - 1\n",
    "            or y_true[i] == y_pred[i] + 1\n",
    "        ):\n",
    "            correct += 1\n",
    "    return correct / len(y_true)\n",
    "\n",
    "\n",
    "my_score(y_true, y_pred)\n"
   ]
  },
  {
   "cell_type": "code",
   "execution_count": null,
   "metadata": {},
   "outputs": [],
   "source": [
    "results = classifier(dataset[\"test\"][\"text\"], padding=True, truncation=True)\n",
    "results_stars = [int(x[\"label\"][0]) for x in results]"
   ]
  },
  {
   "cell_type": "code",
   "execution_count": null,
   "metadata": {},
   "outputs": [
    {
     "data": {
      "text/html": [
       "<div>\n",
       "<style scoped>\n",
       "    .dataframe tbody tr th:only-of-type {\n",
       "        vertical-align: middle;\n",
       "    }\n",
       "\n",
       "    .dataframe tbody tr th {\n",
       "        vertical-align: top;\n",
       "    }\n",
       "\n",
       "    .dataframe thead th {\n",
       "        text-align: right;\n",
       "    }\n",
       "</style>\n",
       "<table border=\"1\" class=\"dataframe\">\n",
       "  <thead>\n",
       "    <tr style=\"text-align: right;\">\n",
       "      <th></th>\n",
       "      <th>texte</th>\n",
       "      <th>note</th>\n",
       "      <th>prediction</th>\n",
       "    </tr>\n",
       "  </thead>\n",
       "  <tbody>\n",
       "    <tr>\n",
       "      <th>0</th>\n",
       "      <td>a laire honnête à voir si mon profile reste accepté jeune conducteur ! pas encore 3 ans de permis a mon actif, prix ...</td>\n",
       "      <td>3</td>\n",
       "      <td>3</td>\n",
       "    </tr>\n",
       "    <tr>\n",
       "      <th>1</th>\n",
       "      <td>Je suis satisfait du service \\r\\nLe prix me convient parfaitement et c'est pratique et simple . Je peux recommandé à...</td>\n",
       "      <td>3</td>\n",
       "      <td>4</td>\n",
       "    </tr>\n",
       "    <tr>\n",
       "      <th>2</th>\n",
       "      <td>les prix sont attractifs et le service your drive est encore à tester afin de vous donner un avis plus complet mais ...</td>\n",
       "      <td>4</td>\n",
       "      <td>4</td>\n",
       "    </tr>\n",
       "    <tr>\n",
       "      <th>3</th>\n",
       "      <td>La plateforme téléphonique joignable très rapidement et gratuitement en cas de questions ou autres démarches.\\r\\nla ...</td>\n",
       "      <td>5</td>\n",
       "      <td>5</td>\n",
       "    </tr>\n",
       "    <tr>\n",
       "      <th>4</th>\n",
       "      <td>Au secours un manque de professionnalisme , on me supprime un conducteur sans m'en avertir et sans aucune consigne d...</td>\n",
       "      <td>3</td>\n",
       "      <td>2</td>\n",
       "    </tr>\n",
       "    <tr>\n",
       "      <th>5</th>\n",
       "      <td>Comme pour les précédentes personnes, Néoliane refuse ma résiliation (parce que j'ai confondu date d'anniversaire et...</td>\n",
       "      <td>1</td>\n",
       "      <td>2</td>\n",
       "    </tr>\n",
       "    <tr>\n",
       "      <th>6</th>\n",
       "      <td>bonjour je fait court;3 contrat moto/voiture/habitation. 1- En 2018 je me fait pillé/piquer ma moto et je reviens  q...</td>\n",
       "      <td>2</td>\n",
       "      <td>2</td>\n",
       "    </tr>\n",
       "    <tr>\n",
       "      <th>7</th>\n",
       "      <td>Bonjour à tous et à toutes! \\r\\nJe viens de lire plein de commentaires laisser par les assurés à la GMF et francheme...</td>\n",
       "      <td>3</td>\n",
       "      <td>5</td>\n",
       "    </tr>\n",
       "    <tr>\n",
       "      <th>8</th>\n",
       "      <td>PEU SATISFAIT. TRES EXIGEANT MAIS LE CLIENT NOUS DOIT LUI AVOIR AUCUNE EXIGENCE. COURRIER DE RECLAMATION ENVOYE IL Y...</td>\n",
       "      <td>2</td>\n",
       "      <td>2</td>\n",
       "    </tr>\n",
       "    <tr>\n",
       "      <th>9</th>\n",
       "      <td>deux sinistres habitations déclarés\\r\\nenvirons 20000 euros de devis pour les repartions pour chacun\\r\\nexpertise lo...</td>\n",
       "      <td>1</td>\n",
       "      <td>1</td>\n",
       "    </tr>\n",
       "  </tbody>\n",
       "</table>\n",
       "</div>"
      ],
      "text/plain": [
       "                                                                                                                     texte  \\\n",
       "0  a laire honnête à voir si mon profile reste accepté jeune conducteur ! pas encore 3 ans de permis a mon actif, prix ...   \n",
       "1  Je suis satisfait du service \\r\\nLe prix me convient parfaitement et c'est pratique et simple . Je peux recommandé à...   \n",
       "2  les prix sont attractifs et le service your drive est encore à tester afin de vous donner un avis plus complet mais ...   \n",
       "3  La plateforme téléphonique joignable très rapidement et gratuitement en cas de questions ou autres démarches.\\r\\nla ...   \n",
       "4  Au secours un manque de professionnalisme , on me supprime un conducteur sans m'en avertir et sans aucune consigne d...   \n",
       "5  Comme pour les précédentes personnes, Néoliane refuse ma résiliation (parce que j'ai confondu date d'anniversaire et...   \n",
       "6  bonjour je fait court;3 contrat moto/voiture/habitation. 1- En 2018 je me fait pillé/piquer ma moto et je reviens  q...   \n",
       "7  Bonjour à tous et à toutes! \\r\\nJe viens de lire plein de commentaires laisser par les assurés à la GMF et francheme...   \n",
       "8  PEU SATISFAIT. TRES EXIGEANT MAIS LE CLIENT NOUS DOIT LUI AVOIR AUCUNE EXIGENCE. COURRIER DE RECLAMATION ENVOYE IL Y...   \n",
       "9  deux sinistres habitations déclarés\\r\\nenvirons 20000 euros de devis pour les repartions pour chacun\\r\\nexpertise lo...   \n",
       "\n",
       "   note  prediction  \n",
       "0     3           3  \n",
       "1     3           4  \n",
       "2     4           4  \n",
       "3     5           5  \n",
       "4     3           2  \n",
       "5     1           2  \n",
       "6     2           2  \n",
       "7     3           5  \n",
       "8     2           2  \n",
       "9     1           1  "
      ]
     },
     "execution_count": 13,
     "metadata": {},
     "output_type": "execute_result"
    }
   ],
   "source": [
    "# example of predictions in a dataframe\n",
    "final_predictions = pd.DataFrame(\n",
    "    {\n",
    "        \"texte\": dataset[\"test\"][\"text\"],\n",
    "        \"note\": list(map(lambda x: x + 1, dataset[\"test\"][\"label\"])),\n",
    "        \"prediction\": results_stars,\n",
    "    }\n",
    ")\n",
    "pd.options.display.max_colwidth = 120\n",
    "final_predictions.head(10)"
   ]
  },
  {
   "cell_type": "code",
   "execution_count": 16,
   "metadata": {},
   "outputs": [
    {
     "data": {
      "text/plain": [
       "\"Bonjour à tous et à toutes! \\r\\nJe viens de lire plein de commentaires laisser par les assurés à la GMF et franchement je suis sur le cul de voir tous les mécontentements pour non prise en charge des sinistres ou autres! Cela fait 15 ans que je suis cz eux et je n'ai vraiment jamais eu de soucis avec eux... Lorsque je vois le nombre de personnes qui se font radier presque sans raisons, je vais me méfier d'eux à présent! \\r\\nPour vous dire, en 2014, et étant en tous risques, j'ai eu malheureusement 2 accidents r\""
      ]
     },
     "execution_count": 16,
     "metadata": {},
     "output_type": "execute_result"
    }
   ],
   "source": [
    "final_predictions.iloc[7].texte"
   ]
  },
  {
   "cell_type": "code",
   "execution_count": 14,
   "metadata": {},
   "outputs": [
    {
     "data": {
      "text/html": [
       "<div>\n",
       "<style scoped>\n",
       "    .dataframe tbody tr th:only-of-type {\n",
       "        vertical-align: middle;\n",
       "    }\n",
       "\n",
       "    .dataframe tbody tr th {\n",
       "        vertical-align: top;\n",
       "    }\n",
       "\n",
       "    .dataframe thead th {\n",
       "        text-align: right;\n",
       "    }\n",
       "</style>\n",
       "<table border=\"1\" class=\"dataframe\">\n",
       "  <thead>\n",
       "    <tr style=\"text-align: right;\">\n",
       "      <th></th>\n",
       "      <th>texte</th>\n",
       "      <th>note</th>\n",
       "      <th>prediction</th>\n",
       "    </tr>\n",
       "  </thead>\n",
       "  <tbody>\n",
       "    <tr>\n",
       "      <th>2116</th>\n",
       "      <td>Je trouve inadmissible qu'en étant assuré tout risques avec pack sérénité nous n'ayons pas eu un prêt de véhicule al...</td>\n",
       "      <td>2</td>\n",
       "      <td>2</td>\n",
       "    </tr>\n",
       "    <tr>\n",
       "      <th>2763</th>\n",
       "      <td>Très très déçus..\\r\\nJ'ai eu un accident, non responsable, tout risque intégral.\\r\\nDonc en attendent l'assurance me...</td>\n",
       "      <td>2</td>\n",
       "      <td>2</td>\n",
       "    </tr>\n",
       "    <tr>\n",
       "      <th>2058</th>\n",
       "      <td>Je suis satisfait du service de votre assurance et de vos prix et assez rapide je vous remercie je attend la validat...</td>\n",
       "      <td>5</td>\n",
       "      <td>5</td>\n",
       "    </tr>\n",
       "    <tr>\n",
       "      <th>1584</th>\n",
       "      <td>Je suis satisfait du service car il rapide , simple et efficace.les tarifs sont très satisfaisant pour les offres pr...</td>\n",
       "      <td>4</td>\n",
       "      <td>5</td>\n",
       "    </tr>\n",
       "    <tr>\n",
       "      <th>3902</th>\n",
       "      <td>Bonjour , \\r\\nje souhaite remercier le conseiller Génération . Sa connaissance du logiciel ainsi que sa gentillesse ...</td>\n",
       "      <td>3</td>\n",
       "      <td>4</td>\n",
       "    </tr>\n",
       "    <tr>\n",
       "      <th>1738</th>\n",
       "      <td>Dans le cas d'une déclaration de sinistre récente pour effraction, dégradations, vol et séjour probable du ou des in...</td>\n",
       "      <td>2</td>\n",
       "      <td>1</td>\n",
       "    </tr>\n",
       "    <tr>\n",
       "      <th>270</th>\n",
       "      <td>Très bon accueil avec Lamia qui m’a donné une  réponse assez claire et précise. Le contact  professionnel  est agréa...</td>\n",
       "      <td>4</td>\n",
       "      <td>4</td>\n",
       "    </tr>\n",
       "    <tr>\n",
       "      <th>2484</th>\n",
       "      <td>Service Client déplorable  dans le cadre d'une succéssion : 2 mois sans nouvelles. Le conseillé indique que c'est Pa...</td>\n",
       "      <td>2</td>\n",
       "      <td>1</td>\n",
       "    </tr>\n",
       "    <tr>\n",
       "      <th>952</th>\n",
       "      <td>conseillère qui est là pour faire du chiffre!!!\\r\\nun devis qui n'est pas bien fait correctement au début pour vous ...</td>\n",
       "      <td>2</td>\n",
       "      <td>1</td>\n",
       "    </tr>\n",
       "    <tr>\n",
       "      <th>2221</th>\n",
       "      <td>Merci d'avoir pris en compte notre discussion téléphonique et de ne pas avoir augmenté le tarif.\\r\\nConcernant la FO...</td>\n",
       "      <td>4</td>\n",
       "      <td>4</td>\n",
       "    </tr>\n",
       "  </tbody>\n",
       "</table>\n",
       "</div>"
      ],
      "text/plain": [
       "                                                                                                                        texte  \\\n",
       "2116  Je trouve inadmissible qu'en étant assuré tout risques avec pack sérénité nous n'ayons pas eu un prêt de véhicule al...   \n",
       "2763  Très très déçus..\\r\\nJ'ai eu un accident, non responsable, tout risque intégral.\\r\\nDonc en attendent l'assurance me...   \n",
       "2058  Je suis satisfait du service de votre assurance et de vos prix et assez rapide je vous remercie je attend la validat...   \n",
       "1584  Je suis satisfait du service car il rapide , simple et efficace.les tarifs sont très satisfaisant pour les offres pr...   \n",
       "3902  Bonjour , \\r\\nje souhaite remercier le conseiller Génération . Sa connaissance du logiciel ainsi que sa gentillesse ...   \n",
       "1738  Dans le cas d'une déclaration de sinistre récente pour effraction, dégradations, vol et séjour probable du ou des in...   \n",
       "270   Très bon accueil avec Lamia qui m’a donné une  réponse assez claire et précise. Le contact  professionnel  est agréa...   \n",
       "2484  Service Client déplorable  dans le cadre d'une succéssion : 2 mois sans nouvelles. Le conseillé indique que c'est Pa...   \n",
       "952   conseillère qui est là pour faire du chiffre!!!\\r\\nun devis qui n'est pas bien fait correctement au début pour vous ...   \n",
       "2221  Merci d'avoir pris en compte notre discussion téléphonique et de ne pas avoir augmenté le tarif.\\r\\nConcernant la FO...   \n",
       "\n",
       "      note  prediction  \n",
       "2116     2           2  \n",
       "2763     2           2  \n",
       "2058     5           5  \n",
       "1584     4           5  \n",
       "3902     3           4  \n",
       "1738     2           1  \n",
       "270      4           4  \n",
       "2484     2           1  \n",
       "952      2           1  \n",
       "2221     4           4  "
      ]
     },
     "execution_count": 14,
     "metadata": {},
     "output_type": "execute_result"
    }
   ],
   "source": [
    "final_predictions.sample(10)"
   ]
  },
  {
   "cell_type": "code",
   "execution_count": null,
   "metadata": {},
   "outputs": [
    {
     "data": {
      "text/plain": [
       "0.7282773416292977"
      ]
     },
     "execution_count": 22,
     "metadata": {},
     "output_type": "execute_result"
    }
   ],
   "source": [
    "final_predictions.note = final_predictions.note.astype(int)\n",
    "final_predictions.prediction = final_predictions.prediction.astype(int)\n",
    "mean_squared_error(final_predictions[\"note\"], final_predictions[\"prediction\"], squared=False)"
   ]
  },
  {
   "cell_type": "markdown",
   "metadata": {},
   "source": [
    "## XGBoost"
   ]
  },
  {
   "cell_type": "code",
   "execution_count": 49,
   "metadata": {},
   "outputs": [],
   "source": [
    "# prédire les notes pour tous les avis de df\n",
    "results = classifier(df[\"avis\"].to_list(), padding=True, truncation=True)\n",
    "results_stars = [int(x[\"label\"][0]) for x in results]"
   ]
  },
  {
   "cell_type": "code",
   "execution_count": 51,
   "metadata": {},
   "outputs": [
    {
     "data": {
      "text/html": [
       "<div>\n",
       "<style scoped>\n",
       "    .dataframe tbody tr th:only-of-type {\n",
       "        vertical-align: middle;\n",
       "    }\n",
       "\n",
       "    .dataframe tbody tr th {\n",
       "        vertical-align: top;\n",
       "    }\n",
       "\n",
       "    .dataframe thead th {\n",
       "        text-align: right;\n",
       "    }\n",
       "</style>\n",
       "<table border=\"1\" class=\"dataframe\">\n",
       "  <thead>\n",
       "    <tr style=\"text-align: right;\">\n",
       "      <th></th>\n",
       "      <th>date</th>\n",
       "      <th>note</th>\n",
       "      <th>auteur</th>\n",
       "      <th>avis</th>\n",
       "      <th>assureur</th>\n",
       "      <th>produit</th>\n",
       "      <th>prediction</th>\n",
       "    </tr>\n",
       "  </thead>\n",
       "  <tbody>\n",
       "    <tr>\n",
       "      <th>0</th>\n",
       "      <td>2021-09-06</td>\n",
       "      <td>5</td>\n",
       "      <td>brahim--k-131532</td>\n",
       "      <td>Meilleurs assurances, prix, solutions, écoute, rapidité, et je recommande cette compagnie pour vous \\r\\nDes prix att...</td>\n",
       "      <td>Direct Assurance</td>\n",
       "      <td>auto</td>\n",
       "      <td>5</td>\n",
       "    </tr>\n",
       "    <tr>\n",
       "      <th>1</th>\n",
       "      <td>2021-05-03</td>\n",
       "      <td>4</td>\n",
       "      <td>bernard-g-112497</td>\n",
       "      <td>je suis globalement satisfait , sauf que vous avez un problème avec votre site internet ,impossible de déclarer un s...</td>\n",
       "      <td>Direct Assurance</td>\n",
       "      <td>auto</td>\n",
       "      <td>4</td>\n",
       "    </tr>\n",
       "    <tr>\n",
       "      <th>2</th>\n",
       "      <td>2021-03-21</td>\n",
       "      <td>5</td>\n",
       "      <td>virginie-t-107352</td>\n",
       "      <td>Prix tres abordable plusieurs options s'offrent a nous comme le boitier connecter à la voiture, l'option tranquilite...</td>\n",
       "      <td>Direct Assurance</td>\n",
       "      <td>auto</td>\n",
       "      <td>5</td>\n",
       "    </tr>\n",
       "    <tr>\n",
       "      <th>3</th>\n",
       "      <td>2021-06-10</td>\n",
       "      <td>4</td>\n",
       "      <td>boulain-f-116580</td>\n",
       "      <td>je satisfait du service, une réponse très rapide de votre service .je vous en remercie, vous êtes une assurance la m...</td>\n",
       "      <td>L'olivier Assurance</td>\n",
       "      <td>auto</td>\n",
       "      <td>5</td>\n",
       "    </tr>\n",
       "    <tr>\n",
       "      <th>4</th>\n",
       "      <td>2017-01-29</td>\n",
       "      <td>1</td>\n",
       "      <td>ouaille31-51798</td>\n",
       "      <td>Client depuis plus de 25 ans, très déçu de cette \"mutuelle\" qui n'a plus rien d'une Mutuelle, la recherche du profit...</td>\n",
       "      <td>Matmut</td>\n",
       "      <td>auto</td>\n",
       "      <td>1</td>\n",
       "    </tr>\n",
       "    <tr>\n",
       "      <th>5</th>\n",
       "      <td>2018-03-06</td>\n",
       "      <td>1</td>\n",
       "      <td>spam-62064</td>\n",
       "      <td>Vente forcée par téléphone, prétextant des évènements graves pour mes proches, mais sans même connaître ma date de n...</td>\n",
       "      <td>Néoliane Santé</td>\n",
       "      <td>sante</td>\n",
       "      <td>1</td>\n",
       "    </tr>\n",
       "    <tr>\n",
       "      <th>6</th>\n",
       "      <td>2021-10-05</td>\n",
       "      <td>3</td>\n",
       "      <td>ludovic-b-135966</td>\n",
       "      <td>Nouveau client satisfait du prix et des services.\\r\\nJe ne donnerai pas plus d'avis car je suis nouveau client chez ...</td>\n",
       "      <td>APRIL</td>\n",
       "      <td>sante</td>\n",
       "      <td>5</td>\n",
       "    </tr>\n",
       "    <tr>\n",
       "      <th>7</th>\n",
       "      <td>2020-09-17</td>\n",
       "      <td>1</td>\n",
       "      <td>laetitia741-97523</td>\n",
       "      <td>Un assureur m'a contacté par telephone pour me vendre cette assurance pour mon chiot en me vendant que les jolis dét...</td>\n",
       "      <td>SantéVet</td>\n",
       "      <td>animaux</td>\n",
       "      <td>1</td>\n",
       "    </tr>\n",
       "    <tr>\n",
       "      <th>8</th>\n",
       "      <td>2021-01-12</td>\n",
       "      <td>1</td>\n",
       "      <td>gbernard10-102485</td>\n",
       "      <td>Je ne peux que rejoindre les nombreux avis négatifs. Je regrette même d'avoir dû mettre 1 étoile tant le service ET ...</td>\n",
       "      <td>Mercer</td>\n",
       "      <td>sante</td>\n",
       "      <td>1</td>\n",
       "    </tr>\n",
       "    <tr>\n",
       "      <th>9</th>\n",
       "      <td>2018-03-21</td>\n",
       "      <td>1</td>\n",
       "      <td>rezo31-62544</td>\n",
       "      <td>GENERALI ASSURANCES VIE PATRIMOINE Très mauvais service client, pas sérieux, mauvais payeur si on demande une avance...</td>\n",
       "      <td>Generali</td>\n",
       "      <td>vie</td>\n",
       "      <td>1</td>\n",
       "    </tr>\n",
       "  </tbody>\n",
       "</table>\n",
       "</div>"
      ],
      "text/plain": [
       "        date  note             auteur  \\\n",
       "0 2021-09-06     5   brahim--k-131532   \n",
       "1 2021-05-03     4   bernard-g-112497   \n",
       "2 2021-03-21     5  virginie-t-107352   \n",
       "3 2021-06-10     4   boulain-f-116580   \n",
       "4 2017-01-29     1    ouaille31-51798   \n",
       "5 2018-03-06     1         spam-62064   \n",
       "6 2021-10-05     3   ludovic-b-135966   \n",
       "7 2020-09-17     1  laetitia741-97523   \n",
       "8 2021-01-12     1  gbernard10-102485   \n",
       "9 2018-03-21     1       rezo31-62544   \n",
       "\n",
       "                                                                                                                      avis  \\\n",
       "0  Meilleurs assurances, prix, solutions, écoute, rapidité, et je recommande cette compagnie pour vous \\r\\nDes prix att...   \n",
       "1  je suis globalement satisfait , sauf que vous avez un problème avec votre site internet ,impossible de déclarer un s...   \n",
       "2  Prix tres abordable plusieurs options s'offrent a nous comme le boitier connecter à la voiture, l'option tranquilite...   \n",
       "3  je satisfait du service, une réponse très rapide de votre service .je vous en remercie, vous êtes une assurance la m...   \n",
       "4  Client depuis plus de 25 ans, très déçu de cette \"mutuelle\" qui n'a plus rien d'une Mutuelle, la recherche du profit...   \n",
       "5  Vente forcée par téléphone, prétextant des évènements graves pour mes proches, mais sans même connaître ma date de n...   \n",
       "6  Nouveau client satisfait du prix et des services.\\r\\nJe ne donnerai pas plus d'avis car je suis nouveau client chez ...   \n",
       "7  Un assureur m'a contacté par telephone pour me vendre cette assurance pour mon chiot en me vendant que les jolis dét...   \n",
       "8  Je ne peux que rejoindre les nombreux avis négatifs. Je regrette même d'avoir dû mettre 1 étoile tant le service ET ...   \n",
       "9  GENERALI ASSURANCES VIE PATRIMOINE Très mauvais service client, pas sérieux, mauvais payeur si on demande une avance...   \n",
       "\n",
       "              assureur  produit  prediction  \n",
       "0     Direct Assurance     auto           5  \n",
       "1     Direct Assurance     auto           4  \n",
       "2     Direct Assurance     auto           5  \n",
       "3  L'olivier Assurance     auto           5  \n",
       "4               Matmut     auto           1  \n",
       "5       Néoliane Santé    sante           1  \n",
       "6                APRIL    sante           5  \n",
       "7             SantéVet  animaux           1  \n",
       "8               Mercer    sante           1  \n",
       "9             Generali      vie           1  "
      ]
     },
     "execution_count": 51,
     "metadata": {},
     "output_type": "execute_result"
    }
   ],
   "source": [
    "#add column to df with predictions\n",
    "df[\"prediction\"] = results_stars\n",
    "pd.options.display.max_colwidth = 120\n",
    "df.head(10)"
   ]
  },
  {
   "cell_type": "code",
   "execution_count": 244,
   "metadata": {},
   "outputs": [
    {
     "data": {
      "text/plain": [
       "0.7065785419735241"
      ]
     },
     "execution_count": 244,
     "metadata": {},
     "output_type": "execute_result"
    }
   ],
   "source": [
    "# RMSE de HuggingFace seulement\n",
    "mean_squared_error(df[\"note\"], df[\"prediction\"], squared=False)"
   ]
  },
  {
   "cell_type": "code",
   "execution_count": 289,
   "metadata": {},
   "outputs": [],
   "source": [
    "df = pd.read_csv(\"./predictions.csv\")"
   ]
  },
  {
   "cell_type": "code",
   "execution_count": 55,
   "metadata": {},
   "outputs": [],
   "source": [
    "df.to_csv(\"predictions.csv\", index=False)"
   ]
  },
  {
   "cell_type": "code",
   "execution_count": 56,
   "metadata": {},
   "outputs": [],
   "source": [
    "# feature engineering\n",
    "# date field\n",
    "df[\"year\"] = df.date.apply(lambda x: x.year)\n",
    "df[\"month\"] = df.date.apply(lambda x: x.month)\n",
    "df[\"day\"] = df.date.apply(lambda x: x.day)\n",
    "df[\"weekday\"] = df.date.apply(lambda x: x.weekday())\n",
    "df_with_pred = df.copy()\n",
    "df_with_pred.drop([\"date\", \"auteur\", \"avis\"], axis=1, inplace=True)\n",
    "\n",
    "# onehot encoding for assureur and produit\n",
    "df_dummies = pd.get_dummies(df_with_pred)"
   ]
  },
  {
   "cell_type": "code",
   "execution_count": 261,
   "metadata": {},
   "outputs": [
    {
     "name": "stderr",
     "output_type": "stream",
     "text": [
      "C:\\Users\\Maxime\\AppData\\Local\\Packages\\PythonSoftwareFoundation.Python.3.9_qbz5n2kfra8p0\\LocalCache\\local-packages\\Python39\\site-packages\\xgboost\\sklearn.py:1224: UserWarning: The use of label encoder in XGBClassifier is deprecated and will be removed in a future release. To remove this warning, do the following: 1) Pass option use_label_encoder=False when constructing XGBClassifier object; and 2) Encode your labels (y) as integers starting with 0, i.e. 0, 1, 2, ..., [num_class - 1].\n",
      "  warnings.warn(label_encoder_deprecation_msg, UserWarning)\n"
     ]
    },
    {
     "data": {
      "text/plain": [
       "0.69310768111665"
      ]
     },
     "execution_count": 261,
     "metadata": {},
     "output_type": "execute_result"
    }
   ],
   "source": [
    "train, test = train_test_split(df_dummies, test_size=0.2)\n",
    "\n",
    "# train XGBoost on the dataset\n",
    "train_X = train.drop([\"note\"], axis=1)\n",
    "train_y = train[\"note\"]\n",
    "\n",
    "test_X = test.drop([\"note\"], axis=1)\n",
    "test_y = test[\"note\"]\n",
    "\n",
    "model = XGBClassifier(\n",
    "    reg_alpha=20,\n",
    "    reg_lambda=20,\n",
    "    tree_method=\"hist\",\n",
    "    max_bin=512,\n",
    "    subsample=0.8,\n",
    ")\n",
    "\n",
    "model.fit(train_X, train_y, eval_metric=\"rmse\")\n",
    "\n",
    "mean_squared_error(test_y, model.predict(test_X), squared=False)\n"
   ]
  },
  {
   "cell_type": "code",
   "execution_count": 242,
   "metadata": {},
   "outputs": [
    {
     "data": {
      "text/plain": [
       "<AxesSubplot:>"
      ]
     },
     "execution_count": 242,
     "metadata": {},
     "output_type": "execute_result"
    },
    {
     "data": {
      "image/png": "[encoded data removed]",
      "text/plain": [
       "<Figure size 1440x720 with 1 Axes>"
      ]
     },
     "metadata": {
      "needs_background": "light"
     },
     "output_type": "display_data"
    }
   ],
   "source": [
    "feature_important = model.get_booster().get_score(importance_type='gain')\n",
    "keys = list(feature_important.keys())\n",
    "values = list(feature_important.values())\n",
    "\n",
    "data = pd.DataFrame(data=values, index=keys, columns=[\"score\"]).sort_values(by=\"score\", ascending=False)\n",
    "data.nlargest(5, columns=\"score\").plot(kind='barh', figsize = (20,10))"
   ]
  },
  {
   "cell_type": "code",
   "execution_count": 249,
   "metadata": {},
   "outputs": [
    {
     "data": {
      "text/html": [
       "<div>\n",
       "<style scoped>\n",
       "    .dataframe tbody tr th:only-of-type {\n",
       "        vertical-align: middle;\n",
       "    }\n",
       "\n",
       "    .dataframe tbody tr th {\n",
       "        vertical-align: top;\n",
       "    }\n",
       "\n",
       "    .dataframe thead th {\n",
       "        text-align: right;\n",
       "    }\n",
       "</style>\n",
       "<table border=\"1\" class=\"dataframe\">\n",
       "  <thead>\n",
       "    <tr style=\"text-align: right;\">\n",
       "      <th></th>\n",
       "      <th>date</th>\n",
       "      <th>auteur</th>\n",
       "      <th>avis</th>\n",
       "      <th>assureur</th>\n",
       "      <th>produit</th>\n",
       "      <th>prediction</th>\n",
       "    </tr>\n",
       "  </thead>\n",
       "  <tbody>\n",
       "    <tr>\n",
       "      <th>0</th>\n",
       "      <td>2021-11-16</td>\n",
       "      <td>lognos-d-139728</td>\n",
       "      <td>Satisfait des tarif et rapide j'attends de voir avec le temp ce qu'on me proposera pour d'autre contrats auto logeme...</td>\n",
       "      <td>L'olivier Assurance</td>\n",
       "      <td>auto</td>\n",
       "      <td>4</td>\n",
       "    </tr>\n",
       "    <tr>\n",
       "      <th>1</th>\n",
       "      <td>2021-11-16</td>\n",
       "      <td>paugam-l-139727</td>\n",
       "      <td>Bon service, service réactif. Tout en ligne pratique. Je recommanderai à l'un de mes proches si besoin. \\r\\nA voir s...</td>\n",
       "      <td>L'olivier Assurance</td>\n",
       "      <td>auto</td>\n",
       "      <td>4</td>\n",
       "    </tr>\n",
       "    <tr>\n",
       "      <th>2</th>\n",
       "      <td>2021-11-16</td>\n",
       "      <td>rozgonyi-o-139704</td>\n",
       "      <td>L’assurance Olivier est une très bonne assurance j’en suis satisfaite , question qualité et prix  cela me correspond...</td>\n",
       "      <td>L'olivier Assurance</td>\n",
       "      <td>auto</td>\n",
       "      <td>5</td>\n",
       "    </tr>\n",
       "    <tr>\n",
       "      <th>3</th>\n",
       "      <td>2021-11-16</td>\n",
       "      <td>saad-hellal-h-139697</td>\n",
       "      <td>Je suis satisfait de l'olivier assurances pas trop cher et le service client très sérieux simple est de prendre cont...</td>\n",
       "      <td>L'olivier Assurance</td>\n",
       "      <td>auto</td>\n",
       "      <td>5</td>\n",
       "    </tr>\n",
       "    <tr>\n",
       "      <th>4</th>\n",
       "      <td>2021-11-15</td>\n",
       "      <td>damis-s-139693</td>\n",
       "      <td>le prix est attractif par rapport à ma situation , formules deux fois et demi moins cher pour une formule identique ...</td>\n",
       "      <td>L'olivier Assurance</td>\n",
       "      <td>auto</td>\n",
       "      <td>4</td>\n",
       "    </tr>\n",
       "    <tr>\n",
       "      <th>5</th>\n",
       "      <td>2021-11-15</td>\n",
       "      <td>beaudoux-t-139689</td>\n",
       "      <td>Satisfait, de très bon conseils de la part du commercial et à l'écoute de mes demandes et propositions. Également tr...</td>\n",
       "      <td>L'olivier Assurance</td>\n",
       "      <td>auto</td>\n",
       "      <td>5</td>\n",
       "    </tr>\n",
       "    <tr>\n",
       "      <th>6</th>\n",
       "      <td>2021-11-15</td>\n",
       "      <td>cotin-j-139683</td>\n",
       "      <td>Pour l'instant, pas eu de problème mon contrat commence qu'a partir du 28 novembre. Sinon votre service clients est ...</td>\n",
       "      <td>L'olivier Assurance</td>\n",
       "      <td>auto</td>\n",
       "      <td>4</td>\n",
       "    </tr>\n",
       "    <tr>\n",
       "      <th>7</th>\n",
       "      <td>2021-11-15</td>\n",
       "      <td>thiery-l-139681</td>\n",
       "      <td>Je suis satisfaite de vos services, facile d'utilisation, prix très abordable. Réponse rapide et facile de compréhen...</td>\n",
       "      <td>L'olivier Assurance</td>\n",
       "      <td>auto</td>\n",
       "      <td>5</td>\n",
       "    </tr>\n",
       "    <tr>\n",
       "      <th>8</th>\n",
       "      <td>2021-11-15</td>\n",
       "      <td>royet-j-139672</td>\n",
       "      <td>Je suis satisfait du service et de la proposition commerciale la demande à était prise en compte rapidement je recom...</td>\n",
       "      <td>L'olivier Assurance</td>\n",
       "      <td>auto</td>\n",
       "      <td>4</td>\n",
       "    </tr>\n",
       "    <tr>\n",
       "      <th>9</th>\n",
       "      <td>2021-11-15</td>\n",
       "      <td>defez-a-139646</td>\n",
       "      <td>Prix correct et rapide rien à dire nous verrons par la suite si en cas de sinistre cet assureur ce montre rapide et ...</td>\n",
       "      <td>L'olivier Assurance</td>\n",
       "      <td>auto</td>\n",
       "      <td>5</td>\n",
       "    </tr>\n",
       "  </tbody>\n",
       "</table>\n",
       "</div>"
      ],
      "text/plain": [
       "        date                auteur  \\\n",
       "0 2021-11-16       lognos-d-139728   \n",
       "1 2021-11-16       paugam-l-139727   \n",
       "2 2021-11-16     rozgonyi-o-139704   \n",
       "3 2021-11-16  saad-hellal-h-139697   \n",
       "4 2021-11-15        damis-s-139693   \n",
       "5 2021-11-15     beaudoux-t-139689   \n",
       "6 2021-11-15        cotin-j-139683   \n",
       "7 2021-11-15       thiery-l-139681   \n",
       "8 2021-11-15        royet-j-139672   \n",
       "9 2021-11-15        defez-a-139646   \n",
       "\n",
       "                                                                                                                      avis  \\\n",
       "0  Satisfait des tarif et rapide j'attends de voir avec le temp ce qu'on me proposera pour d'autre contrats auto logeme...   \n",
       "1  Bon service, service réactif. Tout en ligne pratique. Je recommanderai à l'un de mes proches si besoin. \\r\\nA voir s...   \n",
       "2  L’assurance Olivier est une très bonne assurance j’en suis satisfaite , question qualité et prix  cela me correspond...   \n",
       "3  Je suis satisfait de l'olivier assurances pas trop cher et le service client très sérieux simple est de prendre cont...   \n",
       "4  le prix est attractif par rapport à ma situation , formules deux fois et demi moins cher pour une formule identique ...   \n",
       "5  Satisfait, de très bon conseils de la part du commercial et à l'écoute de mes demandes et propositions. Également tr...   \n",
       "6  Pour l'instant, pas eu de problème mon contrat commence qu'a partir du 28 novembre. Sinon votre service clients est ...   \n",
       "7  Je suis satisfaite de vos services, facile d'utilisation, prix très abordable. Réponse rapide et facile de compréhen...   \n",
       "8  Je suis satisfait du service et de la proposition commerciale la demande à était prise en compte rapidement je recom...   \n",
       "9  Prix correct et rapide rien à dire nous verrons par la suite si en cas de sinistre cet assureur ce montre rapide et ...   \n",
       "\n",
       "              assureur produit  prediction  \n",
       "0  L'olivier Assurance    auto           4  \n",
       "1  L'olivier Assurance    auto           4  \n",
       "2  L'olivier Assurance    auto           5  \n",
       "3  L'olivier Assurance    auto           5  \n",
       "4  L'olivier Assurance    auto           4  \n",
       "5  L'olivier Assurance    auto           5  \n",
       "6  L'olivier Assurance    auto           4  \n",
       "7  L'olivier Assurance    auto           5  \n",
       "8  L'olivier Assurance    auto           4  \n",
       "9  L'olivier Assurance    auto           5  "
      ]
     },
     "execution_count": 249,
     "metadata": {},
     "output_type": "execute_result"
    }
   ],
   "source": [
    "results_test = classifier(df_test[\"avis\"].to_list(), padding=True, truncation=True)\n",
    "result_test_stars = [int(x[\"label\"][0]) for x in results_test]\n",
    "#add column to df with predictions\n",
    "df_test[\"prediction\"] = result_test_stars\n",
    "pd.options.display.max_colwidth = 120\n",
    "df_test.head(10)"
   ]
  },
  {
   "cell_type": "code",
   "execution_count": 250,
   "metadata": {},
   "outputs": [],
   "source": [
    "df_test.to_csv(\"predictions_test.csv\", index=False)"
   ]
  },
  {
   "cell_type": "code",
   "execution_count": 251,
   "metadata": {},
   "outputs": [],
   "source": [
    "# feature engineering\n",
    "# date field\n",
    "df_test[\"year\"] = df_test.date.apply(lambda x: x.year)\n",
    "df_test[\"month\"] = df_test.date.apply(lambda x: x.month)\n",
    "df_test[\"day\"] = df_test.date.apply(lambda x: x.day)\n",
    "df_test[\"weekday\"] = df_test.date.apply(lambda x: x.weekday())\n",
    "df_test_with_pred = df_test.copy()\n",
    "df_test_with_pred.drop([\"date\", \"auteur\", \"avis\"], axis=1, inplace=True)\n",
    "\n",
    "# onehot encoding for assureur and produit\n",
    "df_test_dummies = pd.get_dummies(df_test_with_pred)"
   ]
  },
  {
   "cell_type": "code",
   "execution_count": 252,
   "metadata": {},
   "outputs": [
    {
     "name": "stderr",
     "output_type": "stream",
     "text": [
      "C:\\Users\\Maxime\\AppData\\Local\\Packages\\PythonSoftwareFoundation.Python.3.9_qbz5n2kfra8p0\\LocalCache\\local-packages\\Python39\\site-packages\\xgboost\\sklearn.py:1224: UserWarning: The use of label encoder in XGBClassifier is deprecated and will be removed in a future release. To remove this warning, do the following: 1) Pass option use_label_encoder=False when constructing XGBClassifier object; and 2) Encode your labels (y) as integers starting with 0, i.e. 0, 1, 2, ..., [num_class - 1].\n",
      "  warnings.warn(label_encoder_deprecation_msg, UserWarning)\n"
     ]
    }
   ],
   "source": [
    "X = df_dummies.drop([\"note\"], axis=1)\n",
    "y = df_dummies[\"note\"]\n",
    "\n",
    "model = XGBClassifier(\n",
    "    reg_alpha=20,\n",
    "    reg_lambda=20,\n",
    "    tree_method=\"hist\",\n",
    "    max_bin=512,\n",
    "    subsample=0.8,\n",
    ")\n",
    "\n",
    "model.fit(X, y)\n",
    "result_stars = model.predict(df_test_dummies)"
   ]
  },
  {
   "cell_type": "code",
   "execution_count": 254,
   "metadata": {},
   "outputs": [],
   "source": [
    "result_stars = [int(x) for x in result_stars]\n",
    "# write to csv\n",
    "df_test_with_pred[\"prediction\"] = result_stars\n",
    "df_test_with_pred.columns = [\n",
    "    \"assureur\",\n",
    "    \"produit\",\n",
    "    \"year\",\n",
    "    \"month\",\n",
    "    \"day\",\n",
    "    \"weekday\",\n",
    "    \"prediction\",\n",
    "]\n"
   ]
  },
  {
   "cell_type": "code",
   "execution_count": 255,
   "metadata": {},
   "outputs": [],
   "source": [
    "df_test[\"prediction\"] = result_stars\n",
    "df_test.head(20)"
   ]
  },
  {
   "cell_type": "code",
   "execution_count": 258,
   "metadata": {},
   "outputs": [
    {
     "data": {
      "text/html": [
       "<div>\n",
       "<style scoped>\n",
       "    .dataframe tbody tr th:only-of-type {\n",
       "        vertical-align: middle;\n",
       "    }\n",
       "\n",
       "    .dataframe tbody tr th {\n",
       "        vertical-align: top;\n",
       "    }\n",
       "\n",
       "    .dataframe thead th {\n",
       "        text-align: right;\n",
       "    }\n",
       "</style>\n",
       "<table border=\"1\" class=\"dataframe\">\n",
       "  <thead>\n",
       "    <tr style=\"text-align: right;\">\n",
       "      <th></th>\n",
       "      <th>date</th>\n",
       "      <th>auteur</th>\n",
       "      <th>avis</th>\n",
       "      <th>assureur</th>\n",
       "      <th>produit</th>\n",
       "      <th>prediction</th>\n",
       "      <th>year</th>\n",
       "      <th>month</th>\n",
       "      <th>day</th>\n",
       "      <th>weekday</th>\n",
       "    </tr>\n",
       "  </thead>\n",
       "  <tbody>\n",
       "    <tr>\n",
       "      <th>10312</th>\n",
       "      <td>2017-01-13</td>\n",
       "      <td>bd-4050</td>\n",
       "      <td>Avec notre 1ere chienne, parcours du combattant pour être remboursés de sa 1ere intervention pour tumeur mammaire, p...</td>\n",
       "      <td>Eca Assurances</td>\n",
       "      <td>animaux</td>\n",
       "      <td>2</td>\n",
       "      <td>2017</td>\n",
       "      <td>1</td>\n",
       "      <td>13</td>\n",
       "      <td>4</td>\n",
       "    </tr>\n",
       "    <tr>\n",
       "      <th>10313</th>\n",
       "      <td>2016-12-13</td>\n",
       "      <td>marie-ant-50243</td>\n",
       "      <td>Assurance animaux vraiment nul, ne rembourse pas pour ce qu'on a besoin. Sauf si on prend leurs assurances a 100e/mo...</td>\n",
       "      <td>Eca Assurances</td>\n",
       "      <td>animaux</td>\n",
       "      <td>1</td>\n",
       "      <td>2016</td>\n",
       "      <td>12</td>\n",
       "      <td>13</td>\n",
       "      <td>1</td>\n",
       "    </tr>\n",
       "    <tr>\n",
       "      <th>10314</th>\n",
       "      <td>2021-06-21</td>\n",
       "      <td>christian391-117720</td>\n",
       "      <td>Les prix sont corrects, mais ce sont ceux que vous obtenez avec n'importe quel courtier. En revanche, si un jour vou...</td>\n",
       "      <td>MMA</td>\n",
       "      <td>responsabilite-civile-professionnelle</td>\n",
       "      <td>1</td>\n",
       "      <td>2021</td>\n",
       "      <td>6</td>\n",
       "      <td>21</td>\n",
       "      <td>0</td>\n",
       "    </tr>\n",
       "    <tr>\n",
       "      <th>10315</th>\n",
       "      <td>2020-11-24</td>\n",
       "      <td>mesmeilleuresarnaques-100553</td>\n",
       "      <td>Avis de client d'un professionnel du BTP assuré chez MMA. A la suite d'un dégât causé par ce constructeur lors d'un ...</td>\n",
       "      <td>MMA</td>\n",
       "      <td>responsabilite-civile-professionnelle</td>\n",
       "      <td>1</td>\n",
       "      <td>2020</td>\n",
       "      <td>11</td>\n",
       "      <td>24</td>\n",
       "      <td>1</td>\n",
       "    </tr>\n",
       "    <tr>\n",
       "      <th>10316</th>\n",
       "      <td>2020-12-11</td>\n",
       "      <td>catslab-101315</td>\n",
       "      <td>L'excellente interface commerciale laisse croire à l'utilité d'une assurance RC pro pour un auto-entrepreneur (posit...</td>\n",
       "      <td>Hiscox</td>\n",
       "      <td>responsabilite-civile-professionnelle</td>\n",
       "      <td>2</td>\n",
       "      <td>2020</td>\n",
       "      <td>12</td>\n",
       "      <td>11</td>\n",
       "      <td>4</td>\n",
       "    </tr>\n",
       "    <tr>\n",
       "      <th>10317</th>\n",
       "      <td>2020-11-23</td>\n",
       "      <td>freelance-100506</td>\n",
       "      <td>Attention à bien éplucher les c0nditions contractuelles intégralement.\\r\\nLes c0ntrats sont clairement c0nçus en vot...</td>\n",
       "      <td>Hiscox</td>\n",
       "      <td>responsabilite-civile-professionnelle</td>\n",
       "      <td>1</td>\n",
       "      <td>2020</td>\n",
       "      <td>11</td>\n",
       "      <td>23</td>\n",
       "      <td>0</td>\n",
       "    </tr>\n",
       "    <tr>\n",
       "      <th>10318</th>\n",
       "      <td>2021-01-22</td>\n",
       "      <td>laurent-103120</td>\n",
       "      <td>Depuis le mois de Mars 2020 et ce fameux Covid, je ne peux plus exercer ma profession d'animateur auprès des collect...</td>\n",
       "      <td>Allianz</td>\n",
       "      <td>responsabilite-civile-professionnelle</td>\n",
       "      <td>1</td>\n",
       "      <td>2021</td>\n",
       "      <td>1</td>\n",
       "      <td>22</td>\n",
       "      <td>4</td>\n",
       "    </tr>\n",
       "    <tr>\n",
       "      <th>10319</th>\n",
       "      <td>2021-08-27</td>\n",
       "      <td>pascale--r-129733</td>\n",
       "      <td>Très bon contact. Toujours disponible. Toujours de bonnes explications du contrat. Toujours de bonnes solutions.  Pr...</td>\n",
       "      <td>Mapa</td>\n",
       "      <td>multirisque-professionnelle</td>\n",
       "      <td>5</td>\n",
       "      <td>2021</td>\n",
       "      <td>8</td>\n",
       "      <td>27</td>\n",
       "      <td>4</td>\n",
       "    </tr>\n",
       "    <tr>\n",
       "      <th>10320</th>\n",
       "      <td>2021-07-22</td>\n",
       "      <td>manuel-r-124230</td>\n",
       "      <td>personnel très compétent à l'agence de Reims , dommage que le siège ne s'aligne pas sur les tarifs de ces concurrent...</td>\n",
       "      <td>Mapa</td>\n",
       "      <td>multirisque-professionnelle</td>\n",
       "      <td>5</td>\n",
       "      <td>2021</td>\n",
       "      <td>7</td>\n",
       "      <td>22</td>\n",
       "      <td>3</td>\n",
       "    </tr>\n",
       "    <tr>\n",
       "      <th>10321</th>\n",
       "      <td>2021-09-10</td>\n",
       "      <td>gilauto-132326</td>\n",
       "      <td>LENTEUR ET DEFAUT DINFORMATION DANS LE REGLEMENT DE SINISTRE INCOHERENCE DANS LES REPONSES DE MES INTERLOCUTEURS APR...</td>\n",
       "      <td>Allianz</td>\n",
       "      <td>multirisque-professionnelle</td>\n",
       "      <td>1</td>\n",
       "      <td>2021</td>\n",
       "      <td>9</td>\n",
       "      <td>10</td>\n",
       "      <td>4</td>\n",
       "    </tr>\n",
       "    <tr>\n",
       "      <th>10322</th>\n",
       "      <td>2021-01-15</td>\n",
       "      <td>signpub--102681</td>\n",
       "      <td>Allianz le groupe d'assurance qui ne conseil pas, qui n'indemnise pas après sinistre, qui répondent pas, qui ont une...</td>\n",
       "      <td>Allianz</td>\n",
       "      <td>multirisque-professionnelle</td>\n",
       "      <td>1</td>\n",
       "      <td>2021</td>\n",
       "      <td>1</td>\n",
       "      <td>15</td>\n",
       "      <td>4</td>\n",
       "    </tr>\n",
       "    <tr>\n",
       "      <th>10323</th>\n",
       "      <td>2020-03-04</td>\n",
       "      <td>acl-87941</td>\n",
       "      <td>Très déçu de la manière de procéder avec ses assurés PM. Je suis gérant d une société de transport. Mes véhicules so...</td>\n",
       "      <td>Groupama</td>\n",
       "      <td>flotte-automobile</td>\n",
       "      <td>2</td>\n",
       "      <td>2020</td>\n",
       "      <td>3</td>\n",
       "      <td>4</td>\n",
       "      <td>2</td>\n",
       "    </tr>\n",
       "    <tr>\n",
       "      <th>10324</th>\n",
       "      <td>2019-01-12</td>\n",
       "      <td>philippe-70157</td>\n",
       "      <td>Agence Pont de Beauvoisin Savoie\\r\\nIncompétence et abus de confiance pourraient définir cette agence. 2 sinistres n...</td>\n",
       "      <td>Groupama</td>\n",
       "      <td>flotte-automobile</td>\n",
       "      <td>1</td>\n",
       "      <td>2019</td>\n",
       "      <td>1</td>\n",
       "      <td>12</td>\n",
       "      <td>5</td>\n",
       "    </tr>\n",
       "    <tr>\n",
       "      <th>10325</th>\n",
       "      <td>2018-05-14</td>\n",
       "      <td>nat67-63982</td>\n",
       "      <td>bonjour\\r\\nl assitance est déplorable et le service assistance auto est géré par des  gens incapables bornés et inef...</td>\n",
       "      <td>AXA</td>\n",
       "      <td>flotte-automobile</td>\n",
       "      <td>1</td>\n",
       "      <td>2018</td>\n",
       "      <td>5</td>\n",
       "      <td>14</td>\n",
       "      <td>0</td>\n",
       "    </tr>\n",
       "    <tr>\n",
       "      <th>10326</th>\n",
       "      <td>2021-07-02</td>\n",
       "      <td>valou--113835</td>\n",
       "      <td>Bonjour j’ai souscrit un contrat dommage ouvrage à la MMA  en 2012 pour une très belle maison avec architecte  Notre...</td>\n",
       "      <td>MMA</td>\n",
       "      <td>garantie-decennale</td>\n",
       "      <td>3</td>\n",
       "      <td>2021</td>\n",
       "      <td>7</td>\n",
       "      <td>2</td>\n",
       "      <td>4</td>\n",
       "    </tr>\n",
       "    <tr>\n",
       "      <th>10327</th>\n",
       "      <td>2021-08-24</td>\n",
       "      <td>mamybouly-129360</td>\n",
       "      <td>Bonjour, j'ai une mauvaise expérience avec la SOCOBAT qui est l'assurance du BTP créé en 1980 par SMA. J'ai fait jou...</td>\n",
       "      <td>Sma</td>\n",
       "      <td>garantie-decennale</td>\n",
       "      <td>1</td>\n",
       "      <td>2021</td>\n",
       "      <td>8</td>\n",
       "      <td>24</td>\n",
       "      <td>1</td>\n",
       "    </tr>\n",
       "    <tr>\n",
       "      <th>10328</th>\n",
       "      <td>2021-05-18</td>\n",
       "      <td>tarti-88637</td>\n",
       "      <td>Entreprise très impactée par le covid- secteur événementiel et perte de 80% de CA. ALLIANZ applique une augmentation...</td>\n",
       "      <td>Allianz</td>\n",
       "      <td>assurances-professionnelles</td>\n",
       "      <td>1</td>\n",
       "      <td>2021</td>\n",
       "      <td>5</td>\n",
       "      <td>18</td>\n",
       "      <td>1</td>\n",
       "    </tr>\n",
       "    <tr>\n",
       "      <th>10329</th>\n",
       "      <td>2021-04-08</td>\n",
       "      <td>victor-109599</td>\n",
       "      <td>Suite a un cambriolage le 22/01/2021, je suis toujours dans l'attente de leurs décisions pour faire intervenir les e...</td>\n",
       "      <td>Allianz</td>\n",
       "      <td>assurances-professionnelles</td>\n",
       "      <td>1</td>\n",
       "      <td>2021</td>\n",
       "      <td>4</td>\n",
       "      <td>8</td>\n",
       "      <td>3</td>\n",
       "    </tr>\n",
       "    <tr>\n",
       "      <th>10330</th>\n",
       "      <td>2021-04-19</td>\n",
       "      <td>lkio-110907</td>\n",
       "      <td>Bonjour,\\r\\n\\r\\nJe constate qu'entre le moment de ma demande de versement de fond et la validation de ma demande, me...</td>\n",
       "      <td>Generali</td>\n",
       "      <td>assurances-professionnelles</td>\n",
       "      <td>1</td>\n",
       "      <td>2021</td>\n",
       "      <td>4</td>\n",
       "      <td>19</td>\n",
       "      <td>0</td>\n",
       "    </tr>\n",
       "    <tr>\n",
       "      <th>10331</th>\n",
       "      <td>2021-03-05</td>\n",
       "      <td>padpad-105625</td>\n",
       "      <td>Longtemps je n'ai eu besoin de rien et me suis contenté de payer. \\r\\nAxa était parfait. \\r\\nEN revanche, le jour où...</td>\n",
       "      <td>AXA</td>\n",
       "      <td>assurances-professionnelles</td>\n",
       "      <td>3</td>\n",
       "      <td>2021</td>\n",
       "      <td>3</td>\n",
       "      <td>5</td>\n",
       "      <td>4</td>\n",
       "    </tr>\n",
       "  </tbody>\n",
       "</table>\n",
       "</div>"
      ],
      "text/plain": [
       "            date                        auteur  \\\n",
       "10312 2017-01-13                       bd-4050   \n",
       "10313 2016-12-13               marie-ant-50243   \n",
       "10314 2021-06-21           christian391-117720   \n",
       "10315 2020-11-24  mesmeilleuresarnaques-100553   \n",
       "10316 2020-12-11                catslab-101315   \n",
       "10317 2020-11-23              freelance-100506   \n",
       "10318 2021-01-22                laurent-103120   \n",
       "10319 2021-08-27             pascale--r-129733   \n",
       "10320 2021-07-22               manuel-r-124230   \n",
       "10321 2021-09-10                gilauto-132326   \n",
       "10322 2021-01-15               signpub--102681   \n",
       "10323 2020-03-04                     acl-87941   \n",
       "10324 2019-01-12                philippe-70157   \n",
       "10325 2018-05-14                   nat67-63982   \n",
       "10326 2021-07-02                 valou--113835   \n",
       "10327 2021-08-24              mamybouly-129360   \n",
       "10328 2021-05-18                   tarti-88637   \n",
       "10329 2021-04-08                 victor-109599   \n",
       "10330 2021-04-19                   lkio-110907   \n",
       "10331 2021-03-05                 padpad-105625   \n",
       "\n",
       "                                                                                                                          avis  \\\n",
       "10312  Avec notre 1ere chienne, parcours du combattant pour être remboursés de sa 1ere intervention pour tumeur mammaire, p...   \n",
       "10313  Assurance animaux vraiment nul, ne rembourse pas pour ce qu'on a besoin. Sauf si on prend leurs assurances a 100e/mo...   \n",
       "10314  Les prix sont corrects, mais ce sont ceux que vous obtenez avec n'importe quel courtier. En revanche, si un jour vou...   \n",
       "10315  Avis de client d'un professionnel du BTP assuré chez MMA. A la suite d'un dégât causé par ce constructeur lors d'un ...   \n",
       "10316  L'excellente interface commerciale laisse croire à l'utilité d'une assurance RC pro pour un auto-entrepreneur (posit...   \n",
       "10317  Attention à bien éplucher les c0nditions contractuelles intégralement.\\r\\nLes c0ntrats sont clairement c0nçus en vot...   \n",
       "10318  Depuis le mois de Mars 2020 et ce fameux Covid, je ne peux plus exercer ma profession d'animateur auprès des collect...   \n",
       "10319  Très bon contact. Toujours disponible. Toujours de bonnes explications du contrat. Toujours de bonnes solutions.  Pr...   \n",
       "10320  personnel très compétent à l'agence de Reims , dommage que le siège ne s'aligne pas sur les tarifs de ces concurrent...   \n",
       "10321  LENTEUR ET DEFAUT DINFORMATION DANS LE REGLEMENT DE SINISTRE INCOHERENCE DANS LES REPONSES DE MES INTERLOCUTEURS APR...   \n",
       "10322  Allianz le groupe d'assurance qui ne conseil pas, qui n'indemnise pas après sinistre, qui répondent pas, qui ont une...   \n",
       "10323  Très déçu de la manière de procéder avec ses assurés PM. Je suis gérant d une société de transport. Mes véhicules so...   \n",
       "10324  Agence Pont de Beauvoisin Savoie\\r\\nIncompétence et abus de confiance pourraient définir cette agence. 2 sinistres n...   \n",
       "10325  bonjour\\r\\nl assitance est déplorable et le service assistance auto est géré par des  gens incapables bornés et inef...   \n",
       "10326  Bonjour j’ai souscrit un contrat dommage ouvrage à la MMA  en 2012 pour une très belle maison avec architecte  Notre...   \n",
       "10327  Bonjour, j'ai une mauvaise expérience avec la SOCOBAT qui est l'assurance du BTP créé en 1980 par SMA. J'ai fait jou...   \n",
       "10328  Entreprise très impactée par le covid- secteur événementiel et perte de 80% de CA. ALLIANZ applique une augmentation...   \n",
       "10329  Suite a un cambriolage le 22/01/2021, je suis toujours dans l'attente de leurs décisions pour faire intervenir les e...   \n",
       "10330  Bonjour,\\r\\n\\r\\nJe constate qu'entre le moment de ma demande de versement de fond et la validation de ma demande, me...   \n",
       "10331  Longtemps je n'ai eu besoin de rien et me suis contenté de payer. \\r\\nAxa était parfait. \\r\\nEN revanche, le jour où...   \n",
       "\n",
       "             assureur                                produit  prediction  \\\n",
       "10312  Eca Assurances                                animaux           2   \n",
       "10313  Eca Assurances                                animaux           1   \n",
       "10314             MMA  responsabilite-civile-professionnelle           1   \n",
       "10315             MMA  responsabilite-civile-professionnelle           1   \n",
       "10316          Hiscox  responsabilite-civile-professionnelle           2   \n",
       "10317          Hiscox  responsabilite-civile-professionnelle           1   \n",
       "10318         Allianz  responsabilite-civile-professionnelle           1   \n",
       "10319            Mapa            multirisque-professionnelle           5   \n",
       "10320            Mapa            multirisque-professionnelle           5   \n",
       "10321         Allianz            multirisque-professionnelle           1   \n",
       "10322         Allianz            multirisque-professionnelle           1   \n",
       "10323        Groupama                      flotte-automobile           2   \n",
       "10324        Groupama                      flotte-automobile           1   \n",
       "10325             AXA                      flotte-automobile           1   \n",
       "10326             MMA                     garantie-decennale           3   \n",
       "10327             Sma                     garantie-decennale           1   \n",
       "10328         Allianz            assurances-professionnelles           1   \n",
       "10329         Allianz            assurances-professionnelles           1   \n",
       "10330        Generali            assurances-professionnelles           1   \n",
       "10331             AXA            assurances-professionnelles           3   \n",
       "\n",
       "       year  month  day  weekday  \n",
       "10312  2017      1   13        4  \n",
       "10313  2016     12   13        1  \n",
       "10314  2021      6   21        0  \n",
       "10315  2020     11   24        1  \n",
       "10316  2020     12   11        4  \n",
       "10317  2020     11   23        0  \n",
       "10318  2021      1   22        4  \n",
       "10319  2021      8   27        4  \n",
       "10320  2021      7   22        3  \n",
       "10321  2021      9   10        4  \n",
       "10322  2021      1   15        4  \n",
       "10323  2020      3    4        2  \n",
       "10324  2019      1   12        5  \n",
       "10325  2018      5   14        0  \n",
       "10326  2021      7    2        4  \n",
       "10327  2021      8   24        1  \n",
       "10328  2021      5   18        1  \n",
       "10329  2021      4    8        3  \n",
       "10330  2021      4   19        0  \n",
       "10331  2021      3    5        4  "
      ]
     },
     "execution_count": 258,
     "metadata": {},
     "output_type": "execute_result"
    }
   ],
   "source": [
    "df_test.tail(20)"
   ]
  },
  {
   "cell_type": "code",
   "execution_count": 291,
   "metadata": {},
   "outputs": [],
   "source": [
    "df_test_with_pred[\"prediction\"].to_csv(\"predictions_final.csv\", index=False)"
   ]
  }
 ],
 "metadata": {
  "interpreter": {
   "hash": "ffef2fa9cbcc2cd7cb384c713b0ae375e402913407c8199aff0f77ffc4a59ac0"
  },
  "kernelspec": {
   "display_name": "Python 3 (ipykernel)",
   "language": "python",
   "name": "python3"
  },
  "language_info": {
   "codemirror_mode": {
    "name": "ipython",
    "version": 3
   },
   "file_extension": ".py",
   "mimetype": "text/x-python",
   "name": "python",
   "nbconvert_exporter": "python",
   "pygments_lexer": "ipython3",
   "version": "3.9.9"
  }
 },
 "nbformat": 4,
 "nbformat_minor": 2
}
